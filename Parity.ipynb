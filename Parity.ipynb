{
 "metadata": {
  "name": "",
  "signature": "sha256:3a8a0fdaf629235a03d7cfc5045d75d6d96ce0d2ade6798aa9671fd14579b5e2"
 },
 "nbformat": 3,
 "nbformat_minor": 0,
 "worksheets": [
  {
   "cells": [
    {
     "cell_type": "markdown",
     "metadata": {},
     "source": [
      "#Reflection Symmetry and  Parity \n",
      "\n",
      "If the potential is invariant under reflection, $V(x)=V(-x)$, the Hamiltonian has a **reflection** symmetry. \n"
     ]
    },
    {
     "cell_type": "code",
     "collapsed": false,
     "input": [
      "%pylab inline\n",
      "fig=figure()\n",
      "ax=fig.add_subplot(111)\n",
      "ax.plot([-2,-2], [0,5],'b',lw=2)\n",
      "ax.plot([2,2], [0,5],'b',lw=2)\n",
      "ax.plot([0,0], [0,5],'r')\n",
      "ax.axis([-3,3,0,5])"
     ],
     "language": "python",
     "metadata": {},
     "outputs": [
      {
       "output_type": "stream",
       "stream": "stdout",
       "text": [
        "Populating the interactive namespace from numpy and matplotlib\n"
       ]
      },
      {
       "metadata": {},
       "output_type": "pyout",
       "prompt_number": 38,
       "text": [
        "[-3, 3, 0, 5]"
       ]
      },
      {
       "metadata": {},
       "output_type": "display_data",
       "png": "[encoded data removed]",
       "text": [
        "<matplotlib.figure.Figure at 0x10c3d9710>"
       ]
      }
     ],
     "prompt_number": 38
    },
    {
     "cell_type": "markdown",
     "metadata": {},
     "source": [
      "####Example without reflection symmetry\n",
      "\n",
      "$V(x)\\ne V(-x)$"
     ]
    },
    {
     "cell_type": "code",
     "collapsed": false,
     "input": [
      "fig=figure()\n",
      "ax=fig.add_subplot(111)\n",
      "ax.plot([-2,-2], [0,5],'b',lw=2)\n",
      "ax.plot([2,2], [1,5],'b',lw=2)\n",
      "ax.plot([1.8,1.8], [0,1],'b',lw=2)\n",
      "ax.plot([1.8,2], [1,1],'b',lw=2)\n",
      "ax.plot([0,0], [0,5],'r')\n",
      "ax.axis([-3,3,0,5])"
     ],
     "language": "python",
     "metadata": {},
     "outputs": [
      {
       "metadata": {},
       "output_type": "pyout",
       "prompt_number": 39,
       "text": [
        "[-3, 3, 0, 5]"
       ]
      },
      {
       "metadata": {},
       "output_type": "display_data",
       "png": "[encoded data removed]",
       "text": [
        "<matplotlib.figure.Figure at 0x10c346650>"
       ]
      }
     ],
     "prompt_number": 39
    },
    {
     "cell_type": "code",
     "collapsed": false,
     "input": [
      "fig=figure()\n",
      "ax=fig.add_subplot(111)\n",
      "y=np.linspace(0,5,100)\n",
      "ax.plot([0,0], [0,5],'b',lw=2)\n",
      "ax.plot([4,4], [0,5],'b',lw=2)\n",
      "\n",
      "ax.axis([-5,5,0,5])"
     ],
     "language": "python",
     "metadata": {},
     "outputs": [
      {
       "metadata": {},
       "output_type": "pyout",
       "prompt_number": 40,
       "text": [
        "[-5, 5, 0, 5]"
       ]
      },
      {
       "metadata": {},
       "output_type": "display_data",
       "png": "[encoded data removed]",
       "text": [
        "<matplotlib.figure.Figure at 0x10c3d91d0>"
       ]
      }
     ],
     "prompt_number": 40
    },
    {
     "cell_type": "markdown",
     "metadata": {},
     "source": [
      "##Parity operator\n",
      "\n",
      "We introduce a parity operator $P$, which takes $x\\to  -x$. For any $\\psi(x)$, we have \n",
      "\n",
      "\\begin{equation}\n",
      "P\\psi(x)=\\psi(-x).\n",
      "\\end{equation}\n",
      "\n",
      "For an even wave function, we have\n",
      "\n",
      "\\begin{equation}\n",
      "P\\psi^+(x)=\\psi^+(-x),\n",
      "\\end{equation}\n",
      "\n",
      "and for an odd function, \n",
      "\\begin{equation}\n",
      "P\\psi^-(x)=\\psi^-(-x).\n",
      "\\end{equation}\n",
      "\n",
      "It is clear that the above two equations are eigenvalue equations for $P$:\n",
      "- for an even function $\\psi^+(-x)$, the eigenvalue is 1\n",
      "- for an odd function $\\psi^-(x)$, the eigenvalue is -1.\n",
      "\n",
      "The eigenvalues $\\pm 1$ are the only choice. Suppose we have \n",
      "\n",
      "\\begin{equation}\n",
      "P u(x)=\\lambda u(x). \n",
      "\\end{equation}\n",
      "\n",
      "Applying $P$ again,\n",
      "\n",
      "\\begin{equation}\n",
      "P^2 u(x)=\\lambda P u(x)=\\lambda^2 u(x).\n",
      "\\end{equation}\n",
      "\n",
      "However, $P^2 u(x)=u(x)$ since two reflections should not change anything. \n",
      "Hence, $\\lambda^2=1$ or $\\lambda=\\pm 1$. \n",
      "\n",
      "An arbitrary function $\\psi(x)$ can be written in terms of its even and odd parts\n",
      "\n",
      "\\begin{equation}\n",
      "    \\psi(x)=\\frac{1}{2}\\left(\\psi(x)+\\psi(-x)\\right)+\\frac{1}{2}\\left(\\psi(x)-\\psi(-x)\\right)=\\psi^+(x)+\\psi^-(x)\n",
      "\\end{equation}\n",
      "\n",
      "Since $P$ is a Hermitian operator, $\\psi^{\\pm}(x)$ form a complete set, and are orthogonal. We can expand any wave function in terms of the eigenfunctions of this new operator. \n",
      "\n",
      "Notice that the explicit appearance of evenness and oddness came from the choice of the origin at the center of the potential. One should always pay attention to the **symmetry** of the Hamiltonian, and choose the coordinates that exhibit the symmetries most explicitly."
     ]
    },
    {
     "cell_type": "code",
     "collapsed": false,
     "input": [],
     "language": "python",
     "metadata": {},
     "outputs": [],
     "prompt_number": 40
    },
    {
     "cell_type": "markdown",
     "metadata": {},
     "source": [
      "## Conservation of Parity\n",
      "If we choose the initial state as an even function\n",
      "\n",
      "\\begin{equation}\n",
      "\\psi(x,0)=\\psi(-x,0)=\\psi^+(x)\n",
      "\\end{equation}\n",
      "\n",
      "The time evolution is given by\n",
      "\n",
      "\\begin{equation}\n",
      "i\\hbar\\frac{\\partial \\psi(x,t)}{\\partial t}= H \\psi(x,t)\n",
      "\\end{equation}\n",
      "\n",
      "Operating $P$ on the equation, \n",
      "\n",
      "\\begin{equation}\n",
      "i\\hbar\\frac{\\partial P \\psi(x,t)}{\\partial t}=P H \\psi(x,t)\n",
      "\\end{equation}\n",
      "\n",
      "Since the Hamiltonian is even under reflection $H(x)=H(-x)$, we have $HP\\psi(x,t)=PH\\psi(x,t)$, and\n",
      "\n",
      "\\begin{equation}\n",
      "i\\hbar\\frac{\\partial P \\psi(x,t)}{\\partial t}= H P\\psi(x,t)\n",
      "\\end{equation}\n",
      "\n",
      "Hence, the even and odd part of the wave function, \n",
      "\n",
      "\\begin{align}\n",
      "\\psi^+(x,t)&=\\frac{1}{2} (1+P) \\psi(x,t),\\\\\n",
      "\\psi^-(x,t)&=\\frac{1}{2} (1-P) \\psi(x,t),\n",
      "\\end{align}\n",
      "\n",
      "separately obey the Schr\u00f6dinger equation, and do not mix, if the initial state is even (or odd). That is, the parity is **conserved**. \n",
      "\n",
      "The parity is conserved  if and only if \n",
      "\\begin{equation}\n",
      "[P,H]=PH-HP=0\n",
      "\\end{equation}\n",
      "\n",
      "Any operator that does not have an explicit time dependence and that commutes with $H$ is a constant of motion. \n",
      "\n",
      "\n",
      "\n",
      "Parity is a conserved quantity because of the reflection symmetry in $H$. In general, if $H$ is invariant under some symmetry operation, there is an associated conserved quantity, $O$, such that  $[O,H]=0$.\n",
      "\n",
      "- If a $H$ is translationally invariant, the momentum $\\mathbf{p}$ is conserved, i.e. $[\\mathbf{p},H]=0$.\n",
      "\n",
      "- If a $H$ is  rotationally invariant, the angular momentum $\\mathbf{L}$ is conserved, i.e. $[\\mathbf{L},H]=0$.\n"
     ]
    },
    {
     "cell_type": "code",
     "collapsed": false,
     "input": [],
     "language": "python",
     "metadata": {},
     "outputs": [],
     "prompt_number": 40
    }
   ],
   "metadata": {}
  }
 ]
}