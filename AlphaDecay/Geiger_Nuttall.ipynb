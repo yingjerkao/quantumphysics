{
 "cells": [
  {
   "cell_type": "code",
   "execution_count": 14,
   "metadata": {
    "collapsed": false
   },
   "outputs": [
    {
     "name": "stdout",
     "output_type": "stream",
     "text": [
      "Populating the interactive namespace from numpy and matplotlib\n"
     ]
    }
   ],
   "source": [
    "%pylab inline\n",
    "\n",
    "# data from Seaborg, et al, Phys Rev 77 26 (1950) \n",
    "h = 3600; d = 86400; m = 2.6298E6; y = 3.15576E7;\n",
    "\n",
    "z=np.zeros(25)\n",
    "q=np.zeros(25)\n",
    "t=np.zeros(25)\n",
    "\n",
    "\n",
    "z[1] = z[2] = 94; z[3] = z[4] = z[5] = 92; \n",
    "z[6] = z[7] = z[8] = z[9] = z[10] = 90; \n",
    "z[11] = z[12] = z[13] = z[14] = 88; z[15] = z[16] = z[17] = 86; \n",
    "z[18] = z[19] = z[20] = 84;\n",
    "z[21] = z[22] = z[23] = z[24] = 82;\n",
    "\n",
    "q[1] = 6.18; t[1] = 150*d;\n",
    "#(*Cm242*)\n",
    "q[2] = 6.37; t[2] = 26.8* d;#(*Cm240*)\n",
    "q[3] = 5.60; \n",
    "t[3] = 92* y;#(*Pu238*)\n",
    "q[4] = 5.85; t[4] = 2.7* y;#(*Pu236*)\n",
    "q[5] = 6.26;\n",
    "t[5] = 8.5* h;#(*Pu234*)\n",
    "q[6] = 4.25; t[6] = 4.51E9* y;#(*U238*)\n",
    "q[7] = 4.84; t[7] = 2.35E5* y;#(*U234*)\n",
    "q[8] = 5.40; \n",
    "t[8] = 70* y;#(*U232*)\n",
    "q[9] = 5.96; t[9] = 20.8* d;#(*U230*)\n",
    "q[10] = 6.83;\n",
    "t[10] = 9.3*60;#(*U228*)\n",
    "q[11] = 4.05; t[11] = 1.39*10**10*y;#(*Th232*)\n",
    "\n",
    "q[12] = 4.76; t[12] = 8.0*10**4 *y;#(*Th230*)\n",
    "q[13] = 5.52; \n",
    "t[13] = 1.90* y;#(*Th228*)\n",
    "q[14] = 6.41; t[14] = 30.9*60;#(*Th226*)\n",
    "\n",
    "q[15] = 4.88; t[15] = 1622*y;#(*Ra226*)\n",
    "q[16] = 5.78; \n",
    "t[16] = 3.64*d;#(*Ra224*)\n",
    "q[17] = 6.62; t[17] = 38;#(*Ra222*)\n",
    "\n",
    "q[18] = 5.59; t[18] = 3.83* d;#(*Rn222*)\n",
    "q[19] = 6.39; \n",
    "t[19] = 54.5;#(*Rn220*)\n",
    "q[20] = 7.25; t[20] = 0.019;#(*Rn218*)\n",
    "\n",
    "q[21] = 6.12; t[21] = 3.05*60;#(*Po218*)\n",
    "q[22] = 6.89; \n",
    "t[22] = 0.158;#(*Po216*)\n",
    "q[23] = 7.83; t[23] = 1.5E-4;#(*Po214*)\n",
    "\n",
    "q[24] = 8.95; t[24] = 3.0E-7;#(*Po212*)"
   ]
  },
  {
   "cell_type": "code",
   "execution_count": 21,
   "metadata": {
    "collapsed": false
   },
   "outputs": [
    {
     "name": "stdout",
     "output_type": "stream",
     "text": [
      "94 6.180000e+00 1.296000e+07\n",
      "94 6.370000e+00 2.315520e+06\n",
      "92 5.600000e+00 2.903299e+09\n",
      "92 5.850000e+00 8.520552e+07\n",
      "92 6.260000e+00 3.060000e+04\n",
      "90 4.250000e+00 1.423248e+17\n",
      "90 4.840000e+00 7.416036e+12\n",
      "90 5.400000e+00 2.209032e+09\n",
      "90 5.960000e+00 1.797120e+06\n",
      "90 6.830000e+00 5.580000e+02\n",
      "88 4.050000e+00 4.386506e+17\n",
      "88 4.760000e+00 2.524608e+12\n",
      "88 5.520000e+00 5.995944e+07\n",
      "88 6.410000e+00 1.854000e+03\n",
      "86 4.880000e+00 5.118643e+10\n",
      "86 5.780000e+00 3.144960e+05\n",
      "86 6.620000e+00 3.800000e+01\n",
      "84 5.590000e+00 3.309120e+05\n",
      "84 6.390000e+00 5.450000e+01\n",
      "84 7.250000e+00 1.900000e-02\n",
      "82 6.120000e+00 1.830000e+02\n",
      "82 6.890000e+00 1.580000e-01\n",
      "82 7.830000e+00 1.500000e-04\n",
      "82 8.950000e+00 3.000000e-07\n"
     ]
    }
   ],
   "source": [
    "for i in range(1,25):\n",
    "    print \"%d %e %e\" % (z[i],q[i],t[i])"
   ]
  },
  {
   "cell_type": "code",
   "execution_count": 23,
   "metadata": {
    "collapsed": false
   },
   "outputs": [
    {
     "data": {
      "text/plain": [
       "[<matplotlib.lines.Line2D at 0x106725350>]"
      ]
     },
     "execution_count": 23,
     "metadata": {},
     "output_type": "execute_result"
    },
    {
     "data": {
      "image/png": "[encoded data removed]",
      "text/plain": [
       "<matplotlib.figure.Figure at 0x104ac0350>"
      ]
     },
     "metadata": {},
     "output_type": "display_data"
    }
   ],
   "source": [
    "loglog(q,t,'.')"
   ]
  },
  {
   "cell_type": "code",
   "execution_count": null,
   "metadata": {
    "collapsed": true
   },
   "outputs": [],
   "source": []
  }
 ],
 "metadata": {
  "kernelspec": {
   "display_name": "Python 2",
   "language": "python",
   "name": "python2"
  },
  "language_info": {
   "codemirror_mode": {
    "name": "ipython",
    "version": 2
   },
   "file_extension": ".py",
   "mimetype": "text/x-python",
   "name": "python",
   "nbconvert_exporter": "python",
   "pygments_lexer": "ipython2",
   "version": "2.7.10"
  }
 },
 "nbformat": 4,
 "nbformat_minor": 0
}
