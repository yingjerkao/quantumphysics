{
 "metadata": {
  "name": "",
  "signature": "sha256:eba636dd584e135df11fa598c93b6b313ab3d104efffce466a9c958b7c1eca9f"
 },
 "nbformat": 3,
 "nbformat_minor": 0,
 "worksheets": [
  {
   "cells": [
    {
     "cell_type": "markdown",
     "metadata": {},
     "source": [
      "#Simple Harmonic Oscillator\n",
      "\n",
      "\\begin{equation}\n",
      "H=\\frac{p^2}{2m}+\\frac{1}{2}m\\omega^2x^2\n",
      "\\end{equation}\n"
     ]
    },
    {
     "cell_type": "code",
     "collapsed": false,
     "input": [
      "# import all the necessary modules\n",
      "import numpy as np\n",
      "import matplotlib.pyplot as plt \n",
      "%matplotlib inline\n",
      "from IPython.html.widgets import interact, interactive\n",
      "from IPython.html import widgets\n",
      "from IPython.display import display, Math, Latex\n",
      "from __future__ import division\n",
      "from sympy import *\n",
      "import sympy.plotting as splt\n",
      "from sympy.physics import qho_1d \n",
      "# Print Mathematical expression using mathjax\n",
      "init_printing(use_latex='mathjax')"
     ],
     "language": "python",
     "metadata": {},
     "outputs": [],
     "prompt_number": 1
    },
    {
     "cell_type": "markdown",
     "metadata": {},
     "source": [
      "## Correspondence Principle\n"
     ]
    },
    {
     "cell_type": "code",
     "collapsed": false,
     "input": [
      "var('n',integer=True)\n",
      "var('omega m x')\n",
      "@interact(n=(0,50))\n",
      "def SHO_psi(n):\n",
      "    y_max=0.4\n",
      "    # Use the solution in qho_1d and set m=omeg=hbar=1\n",
      "    f=lambdify(x,qho_1d.psi_n(n,x,m,omega).subs(omega,1).subs(m,1).subs(qho_1d.hbar,1),\"numpy\")\n",
      "    fig=plt.figure(figsize=(8,6))\n",
      "    ax=fig.add_subplot(111)\n",
      "    x_pts=np.linspace(-15,15,100000)\n",
      "    # Quantum probability\n",
      "    ax.plot(x_pts,abs(f(x_pts))**2)\n",
      "    \n",
      "    \n",
      "    # Classical turning points\n",
      "    A=float(sqrt(2*qho_1d.E_n(n,omega).subs(omega,1).subs(m,1).subs(qho_1d.hbar,1)))\n",
      "    # Avoid infinity exactly at turning point\n",
      "    d=0.0001\n",
      "    x_pts=np.linspace(-A+d,A-d,10000)\n",
      "    # Classical probbility\n",
      "    ax.plot(x_pts,1./np.sqrt(A*A-x_pts*x_pts),'r')\n",
      "    \n",
      "    ax.plot((-A,-A),(0,y_max),'k',lw=2)\n",
      "    ax.plot((A,A),(0,y_max),'k',lw=2)\n",
      "    ax.set_ylim([0,y_max])"
     ],
     "language": "python",
     "metadata": {},
     "outputs": [
      {
       "metadata": {},
       "output_type": "display_data",
       "png": "[encoded data removed]",
       "text": [
        "<matplotlib.figure.Figure at 0x109d7b090>"
       ]
      }
     ],
     "prompt_number": 4
    },
    {
     "cell_type": "markdown",
     "metadata": {},
     "source": [
      "## Algebraic Method\n",
      "\n",
      "Define the **raising** and **lowering** operators\n",
      "\n",
      "\\begin{equation}\n",
      "a_\\pm\\equiv \\frac{1}{\\sqrt{2\\hbar m \\omega}}(\\mp ip+m\\omega x)\n",
      "\\end{equation}\n",
      "\n",
      "The commutation relation between $a_+$ and $a_-$ is \n",
      "\n",
      "\\begin{equation}\n",
      "[a_-,a_+]=1\n",
      "\\end{equation}\n",
      "\n",
      "The Hamiltonian can be written as \n",
      "\\begin{equation}\n",
      "H=\\hbar \\omega \\left(a_+a_-+\\frac{1}{2}\\right)\n",
      "\\end{equation}\n",
      "\n",
      "and the Schr\u00f6dinger equation takes the form\n",
      "\\begin{equation}\n",
      "\\hbar \\omega \\left(a_\\pm a_\\mp \\pm\\frac{1}{2}\\right)\\psi=E\\psi\n",
      "\\end{equation}\n",
      "\n",
      "\n",
      "\\begin{align}\n",
      "H(a_+\\psi)& =\\hbar\\omega\\left(a_+a_-+\\frac{1}{2}\\right)(a_+\\psi)=\\hbar\\omega\\left(a_+a_- a_++\\frac{1}{2} a_+\\right)\\psi\\\\\n",
      "&=\\hbar\\omega a_+\\left(a_- a_+ +\\frac{1}{2}\\right)\\psi==\\hbar\\omega a_+ \\left (a_+ a_- +\\frac{1}{2}+1 \\right)\\psi\\\\\n",
      "&=a_+ (H+\\hbar\\omega)\\psi= (E+\\hbar \\omega)(a_+ \\psi)\n",
      "\\end{align}\n",
      "That is, *if $\\psi$ satisfies the Schr\u00f6dinger equation with energy $E$, then $a_+\\psi$ satisfies the Schr\u00f6dinger equation with energy $E+\\hbar\\omega$*. \n",
      "\n",
      "By the same token, $a_-\\psi$ is a solution with $(E-\\hbar\\omega)$\n",
      "\\begin{align}\n",
      "H(a_-\\psi)& =\\hbar\\omega\\left(a_-a_+-\\frac{1}{2}\\right)(a_-\\psi)=\\hbar\\omega\\left(a_-a_+ a_--\\frac{1}{2} a_-\\right)\\psi\\\\\n",
      "&=\\hbar\\omega a_-\\left(a_- a_+ -\\frac{1}{2}-1\\right)\\psi==a_- (H-\\hbar\\omega)\\psi= (E-\\hbar \\omega)(a_- \\psi)\n",
      "\\end{align}"
     ]
    },
    {
     "cell_type": "code",
     "collapsed": false,
     "input": [
      "from sympy.physics.quantum.operator import DifferentialOperator\n",
      "from sympy.physics.quantum.state import Wavefunction\n",
      "from sympy.physics.quantum.qapply import qapply\n",
      "var('x m omega')\n",
      "var('n', integer=True)\n",
      "f=Function('f')\n",
      "p=DifferentialOperator(qho_1d.hbar/I*Derivative(f(x),x),f(x))\n",
      "a_m=DifferentialOperator(1/sqrt(2*qho_1d.hbar*m*omega)*(qho_1d.hbar*Derivative(f(x),x)+m*omega*x*f(x)),f(x))\n",
      "a_p=DifferentialOperator(1/sqrt(2*qho_1d.hbar*m*omega)*(-qho_1d.hbar*Derivative(f(x),x)+m*omega*x*f(x)),f(x))\n",
      "display(Math(\"a_+ f(x)=\"), a_p.expr)\n",
      "\n",
      "display(Math(\"a_-f(x)=\"),a_m.expr)\n",
      "\n"
     ],
     "language": "python",
     "metadata": {},
     "outputs": [
      {
       "latex": [
        "$$a_+ f(x)=$$"
       ],
       "metadata": {},
       "output_type": "display_data",
       "text": [
        "<IPython.core.display.Math at 0x108c03710>"
       ]
      },
      {
       "latex": [
        "$$\\frac{\\sqrt{2}}{2 \\sqrt{\\hbar} \\sqrt{m \\omega}} \\left(m \\omega x f{\\left (x \\right )} - \\hbar \\frac{d}{d x} f{\\left (x \\right )}\\right)$$"
       ],
       "metadata": {},
       "output_type": "display_data",
       "text": [
        "  ___ \u239b               d       \u239e\n",
        "\u2572\u2571 2 \u22c5\u239cm\u22c5\u03c9\u22c5x\u22c5f(x) - \u210f\u22c5\u2500\u2500(f(x))\u239f\n",
        "      \u239d               dx      \u23a0\n",
        "\u2500\u2500\u2500\u2500\u2500\u2500\u2500\u2500\u2500\u2500\u2500\u2500\u2500\u2500\u2500\u2500\u2500\u2500\u2500\u2500\u2500\u2500\u2500\u2500\u2500\u2500\u2500\u2500\u2500\u2500\u2500\n",
        "            ___   _____        \n",
        "        2\u22c5\u2572\u2571 \u210f \u22c5\u2572\u2571 m\u22c5\u03c9         "
       ]
      },
      {
       "latex": [
        "$$a_-f(x)=$$"
       ],
       "metadata": {},
       "output_type": "display_data",
       "text": [
        "<IPython.core.display.Math at 0x109217190>"
       ]
      },
      {
       "latex": [
        "$$\\frac{\\sqrt{2}}{2 \\sqrt{\\hbar} \\sqrt{m \\omega}} \\left(m \\omega x f{\\left (x \\right )} + \\hbar \\frac{d}{d x} f{\\left (x \\right )}\\right)$$"
       ],
       "metadata": {},
       "output_type": "display_data",
       "text": [
        "  ___ \u239b               d       \u239e\n",
        "\u2572\u2571 2 \u22c5\u239cm\u22c5\u03c9\u22c5x\u22c5f(x) + \u210f\u22c5\u2500\u2500(f(x))\u239f\n",
        "      \u239d               dx      \u23a0\n",
        "\u2500\u2500\u2500\u2500\u2500\u2500\u2500\u2500\u2500\u2500\u2500\u2500\u2500\u2500\u2500\u2500\u2500\u2500\u2500\u2500\u2500\u2500\u2500\u2500\u2500\u2500\u2500\u2500\u2500\u2500\u2500\n",
        "            ___   _____        \n",
        "        2\u22c5\u2572\u2571 \u210f \u22c5\u2572\u2571 m\u22c5\u03c9         "
       ]
      }
     ],
     "prompt_number": 6
    },
    {
     "cell_type": "markdown",
     "metadata": {},
     "source": [
      "Energy is bounded from below $E\\le 0$. Lowering operator annihilates the ground state\n",
      "\n",
      "\\begin{equation}\n",
      "a_-\\psi_0=0\n",
      "\\end{equation}\n"
     ]
    },
    {
     "cell_type": "code",
     "collapsed": false,
     "input": [
      "# Define a wave function \n",
      "phi0=Wavefunction(f(x),x) \n",
      "# The differential equation to be solved\n",
      "display(Eq(qapply(a_m*phi0).expr, 0)) \n",
      "# Solution to the differential equation\n",
      "dsolve(qapply(a_m*phi0).expr)"
     ],
     "language": "python",
     "metadata": {},
     "outputs": [
      {
       "latex": [
        "$$\\frac{\\sqrt{2} m \\omega x f{\\left (x \\right )}}{2 \\sqrt{\\hbar} \\sqrt{m \\omega}} + \\frac{\\sqrt{2} \\sqrt{\\hbar}}{2 \\sqrt{m \\omega}} \\frac{d}{d x} f{\\left (x \\right )} = 0$$"
       ],
       "metadata": {},
       "output_type": "display_data",
       "text": [
        "                     ___   ___ d           \n",
        "  ___              \u2572\u2571 2 \u22c5\u2572\u2571 \u210f \u22c5\u2500\u2500(f(x))    \n",
        "\u2572\u2571 2 \u22c5m\u22c5\u03c9\u22c5x\u22c5f(x)               dx          \n",
        "\u2500\u2500\u2500\u2500\u2500\u2500\u2500\u2500\u2500\u2500\u2500\u2500\u2500\u2500\u2500\u2500 + \u2500\u2500\u2500\u2500\u2500\u2500\u2500\u2500\u2500\u2500\u2500\u2500\u2500\u2500\u2500\u2500\u2500\u2500\u2500\u2500 = 0\n",
        "    ___   _____             _____          \n",
        "2\u22c5\u2572\u2571 \u210f \u22c5\u2572\u2571 m\u22c5\u03c9          2\u22c5\u2572\u2571 m\u22c5\u03c9           "
       ]
      },
      {
       "latex": [
        "$$\\begin{bmatrix}f{\\left (x \\right )} = C_{1} e^{- \\frac{m \\omega x^{2}}{2 \\hbar}}, & f{\\left (x \\right )} = C_{1} e^{- \\frac{m \\omega x^{2}}{2 \\hbar}}\\end{bmatrix}$$"
       ],
       "metadata": {},
       "output_type": "pyout",
       "prompt_number": 21,
       "text": [
        "\u23a1                 2                    2 \u23a4\n",
        "\u23a2           -m\u22c5\u03c9\u22c5x               -m\u22c5\u03c9\u22c5x  \u23a5\n",
        "\u23a2           \u2500\u2500\u2500\u2500\u2500\u2500\u2500\u2500             \u2500\u2500\u2500\u2500\u2500\u2500\u2500\u2500\u23a5\n",
        "\u23a2             2\u22c5\u210f                  2\u22c5\u210f   \u23a5\n",
        "\u23a3f(x) = C\u2081\u22c5\u212f        , f(x) = C\u2081\u22c5\u212f        \u23a6"
       ]
      }
     ],
     "prompt_number": 21
    },
    {
     "cell_type": "code",
     "collapsed": false,
     "input": [
      "#Define the ground state wave function and apply\n",
      "\n",
      "psi_0=Wavefunction(qho_1d.psi_n(0,x,m,omega),x)\n",
      "\n",
      "qapply(a_m*psi_0).expr\n",
      "\n"
     ],
     "language": "python",
     "metadata": {},
     "outputs": [
      {
       "latex": [
        "$$0$$"
       ],
       "metadata": {},
       "output_type": "pyout",
       "prompt_number": 10,
       "text": [
        "0"
       ]
      }
     ],
     "prompt_number": 10
    },
    {
     "cell_type": "code",
     "collapsed": false,
     "input": [
      "# Apply a_p to the ground state wave function\n",
      "\n",
      "psi1=qapply(a_p*psi_0)\n",
      "psi1.expr.simplify()"
     ],
     "language": "python",
     "metadata": {},
     "outputs": [
      {
       "latex": [
        "$$\\frac{\\sqrt{2} x \\left(m \\omega\\right)^{\\frac{3}{4}}}{\\hbar^{\\frac{3}{4}} \\sqrt[4]{\\pi}} e^{- \\frac{m \\omega x^{2}}{2 \\hbar}}$$"
       ],
       "metadata": {},
       "output_type": "pyout",
       "prompt_number": 13,
       "text": [
        "                        2 \n",
        "                  -m\u22c5\u03c9\u22c5x  \n",
        "                  \u2500\u2500\u2500\u2500\u2500\u2500\u2500\u2500\n",
        "  ___        3/4    2\u22c5\u210f   \n",
        "\u2572\u2571 2 \u22c5x\u22c5(m\u22c5\u03c9)   \u22c5\u212f        \n",
        "\u2500\u2500\u2500\u2500\u2500\u2500\u2500\u2500\u2500\u2500\u2500\u2500\u2500\u2500\u2500\u2500\u2500\u2500\u2500\u2500\u2500\u2500\u2500\u2500\u2500\u2500\n",
        "         3/4 4 ___        \n",
        "        \u210f   \u22c5\u2572\u2571 \u03c0         "
       ]
      }
     ],
     "prompt_number": 13
    },
    {
     "cell_type": "code",
     "collapsed": false,
     "input": [
      "# Solution \n",
      "qho_1d.psi_n(1, x, m, omega)"
     ],
     "language": "python",
     "metadata": {},
     "outputs": [
      {
       "latex": [
        "$$\\frac{\\sqrt{2} x \\left(m \\omega\\right)^{\\frac{3}{4}}}{\\hbar^{\\frac{3}{4}} \\sqrt[4]{\\pi}} e^{- \\frac{m \\omega x^{2}}{2 \\hbar}}$$"
       ],
       "metadata": {},
       "output_type": "pyout",
       "prompt_number": 12,
       "text": [
        "                        2 \n",
        "                  -m\u22c5\u03c9\u22c5x  \n",
        "                  \u2500\u2500\u2500\u2500\u2500\u2500\u2500\u2500\n",
        "  ___        3/4    2\u22c5\u210f   \n",
        "\u2572\u2571 2 \u22c5x\u22c5(m\u22c5\u03c9)   \u22c5\u212f        \n",
        "\u2500\u2500\u2500\u2500\u2500\u2500\u2500\u2500\u2500\u2500\u2500\u2500\u2500\u2500\u2500\u2500\u2500\u2500\u2500\u2500\u2500\u2500\u2500\u2500\u2500\u2500\n",
        "         3/4 4 ___        \n",
        "        \u210f   \u22c5\u2572\u2571 \u03c0         "
       ]
      }
     ],
     "prompt_number": 12
    },
    {
     "cell_type": "code",
     "collapsed": false,
     "input": [
      "# Apply a_p to the first-excited state wave function\n",
      "psi2=qapply(a_p*psi1)\n",
      "psi2.expr.simplify()\n"
     ],
     "language": "python",
     "metadata": {},
     "outputs": [
      {
       "latex": [
        "$$\\frac{\\sqrt[4]{m \\omega}}{\\hbar^{\\frac{5}{4}} \\sqrt[4]{\\pi}} \\left(2 m \\omega x^{2} - \\hbar\\right) e^{- \\frac{m \\omega x^{2}}{2 \\hbar}}$$"
       ],
       "metadata": {},
       "output_type": "pyout",
       "prompt_number": 15,
       "text": [
        "                              2 \n",
        "                        -m\u22c5\u03c9\u22c5x  \n",
        "                        \u2500\u2500\u2500\u2500\u2500\u2500\u2500\u2500\n",
        "4 _____ \u239b       2    \u239e    2\u22c5\u210f   \n",
        "\u2572\u2571 m\u22c5\u03c9 \u22c5\u239d2\u22c5m\u22c5\u03c9\u22c5x  - \u210f\u23a0\u22c5\u212f        \n",
        "\u2500\u2500\u2500\u2500\u2500\u2500\u2500\u2500\u2500\u2500\u2500\u2500\u2500\u2500\u2500\u2500\u2500\u2500\u2500\u2500\u2500\u2500\u2500\u2500\u2500\u2500\u2500\u2500\u2500\u2500\u2500\u2500\n",
        "            5/4 4 ___           \n",
        "           \u210f   \u22c5\u2572\u2571 \u03c0            "
       ]
      }
     ],
     "prompt_number": 15
    },
    {
     "cell_type": "code",
     "collapsed": false,
     "input": [
      "# Solution qho_1d.psi_n(2,x,m,omega).simplify()"
     ],
     "language": "python",
     "metadata": {},
     "outputs": [
      {
       "latex": [
        "$$\\frac{\\sqrt{2} \\sqrt[4]{m \\omega}}{\\hbar^{\\frac{5}{4}} \\sqrt[4]{\\pi}} \\left(m \\omega x^{2} - \\frac{\\hbar}{2}\\right) e^{- \\frac{m \\omega x^{2}}{2 \\hbar}}$$"
       ],
       "metadata": {},
       "output_type": "pyout",
       "prompt_number": 16,
       "text": [
        "                                  2 \n",
        "                            -m\u22c5\u03c9\u22c5x  \n",
        "                            \u2500\u2500\u2500\u2500\u2500\u2500\u2500\u2500\n",
        "  ___ 4 _____ \u239b     2   \u210f\u239e    2\u22c5\u210f   \n",
        "\u2572\u2571 2 \u22c5\u2572\u2571 m\u22c5\u03c9 \u22c5\u239cm\u22c5\u03c9\u22c5x  - \u2500\u239f\u22c5\u212f        \n",
        "              \u239d         2\u23a0          \n",
        "\u2500\u2500\u2500\u2500\u2500\u2500\u2500\u2500\u2500\u2500\u2500\u2500\u2500\u2500\u2500\u2500\u2500\u2500\u2500\u2500\u2500\u2500\u2500\u2500\u2500\u2500\u2500\u2500\u2500\u2500\u2500\u2500\u2500\u2500\u2500\u2500\n",
        "              5/4 4 ___             \n",
        "             \u210f   \u22c5\u2572\u2571 \u03c0              "
       ]
      }
     ],
     "prompt_number": 16
    },
    {
     "cell_type": "code",
     "collapsed": false,
     "input": [
      "(psi2.expr/sqrt(2)- qho_1d.psi_n(2,x,m,omega)).simplify()"
     ],
     "language": "python",
     "metadata": {},
     "outputs": [
      {
       "latex": [
        "$$0$$"
       ],
       "metadata": {},
       "output_type": "pyout",
       "prompt_number": 17,
       "text": [
        "0"
       ]
      }
     ],
     "prompt_number": 17
    },
    {
     "cell_type": "code",
     "collapsed": false,
     "input": [
      "qapply((a_p)**2*psi_0).expr.simplify()"
     ],
     "language": "python",
     "metadata": {},
     "outputs": [
      {
       "latex": [
        "$$\\frac{\\sqrt[4]{m \\omega}}{\\hbar^{\\frac{5}{4}} \\sqrt[4]{\\pi}} \\left(2 m \\omega x^{2} - \\hbar\\right) e^{- \\frac{m \\omega x^{2}}{2 \\hbar}}$$"
       ],
       "metadata": {},
       "output_type": "pyout",
       "prompt_number": 19,
       "text": [
        "                              2 \n",
        "                        -m\u22c5\u03c9\u22c5x  \n",
        "                        \u2500\u2500\u2500\u2500\u2500\u2500\u2500\u2500\n",
        "4 _____ \u239b       2    \u239e    2\u22c5\u210f   \n",
        "\u2572\u2571 m\u22c5\u03c9 \u22c5\u239d2\u22c5m\u22c5\u03c9\u22c5x  - \u210f\u23a0\u22c5\u212f        \n",
        "\u2500\u2500\u2500\u2500\u2500\u2500\u2500\u2500\u2500\u2500\u2500\u2500\u2500\u2500\u2500\u2500\u2500\u2500\u2500\u2500\u2500\u2500\u2500\u2500\u2500\u2500\u2500\u2500\u2500\u2500\u2500\u2500\n",
        "            5/4 4 ___           \n",
        "           \u210f   \u22c5\u2572\u2571 \u03c0            "
       ]
      }
     ],
     "prompt_number": 19
    },
    {
     "cell_type": "markdown",
     "metadata": {},
     "source": [
      "The wave function of the $n$-th excited states\n",
      "\n",
      "\\begin{equation}\n",
      "\\psi_n(x)=\\frac{(a_+)^n}{\\sqrt{n!}}\\psi_0(x)\n",
      "\\end{equation}"
     ]
    },
    {
     "cell_type": "code",
     "collapsed": false,
     "input": [
      "def psi_n(n):\n",
      "    return Wavefunction(qapply((a_p)**n*psi_0).expr.simplify()/sqrt(factorial(n)),x)"
     ],
     "language": "python",
     "metadata": {},
     "outputs": [],
     "prompt_number": 20
    },
    {
     "cell_type": "code",
     "collapsed": false,
     "input": [
      "# Fifth excited state\n",
      "display(psi_n(5).expr)"
     ],
     "language": "python",
     "metadata": {},
     "outputs": [
      {
       "latex": [
        "$$\\frac{\\sqrt{15} x \\left(m \\omega\\right)^{\\frac{3}{4}}}{30 \\hbar^{\\frac{11}{4}} \\sqrt[4]{\\pi}} \\left(4 m^{2} \\omega^{2} x^{4} - 20 \\hbar m \\omega x^{2} + 15 \\hbar^{2}\\right) e^{- \\frac{m \\omega x^{2}}{2 \\hbar}}$$"
       ],
       "metadata": {},
       "output_type": "display_data",
       "text": [
        "                                                            2 \n",
        "                                                      -m\u22c5\u03c9\u22c5x  \n",
        "                                                      \u2500\u2500\u2500\u2500\u2500\u2500\u2500\u2500\n",
        "  ____        3/4 \u239b   2  2  4             2       2\u239e    2\u22c5\u210f   \n",
        "\u2572\u2571 15 \u22c5x\u22c5(m\u22c5\u03c9)   \u22c5\u239d4\u22c5m \u22c5\u03c9 \u22c5x  - 20\u22c5\u210f\u22c5m\u22c5\u03c9\u22c5x  + 15\u22c5\u210f \u23a0\u22c5\u212f        \n",
        "\u2500\u2500\u2500\u2500\u2500\u2500\u2500\u2500\u2500\u2500\u2500\u2500\u2500\u2500\u2500\u2500\u2500\u2500\u2500\u2500\u2500\u2500\u2500\u2500\u2500\u2500\u2500\u2500\u2500\u2500\u2500\u2500\u2500\u2500\u2500\u2500\u2500\u2500\u2500\u2500\u2500\u2500\u2500\u2500\u2500\u2500\u2500\u2500\u2500\u2500\u2500\u2500\u2500\u2500\u2500\u2500\u2500\u2500\u2500\u2500\u2500\u2500\n",
        "                            11/4 4 ___                        \n",
        "                        30\u22c5\u210f    \u22c5\u2572\u2571 \u03c0                         "
       ]
      }
     ],
     "prompt_number": 52
    },
    {
     "cell_type": "code",
     "collapsed": false,
     "input": [
      "# Solution from Schr\u00f6dinger Equation\n",
      "qho_1d.psi_n(5,x,m,omega).simplify()"
     ],
     "language": "python",
     "metadata": {},
     "outputs": [
      {
       "latex": [
        "$$\\frac{\\sqrt{15} x \\left(m \\omega\\right)^{\\frac{3}{4}}}{30 \\hbar^{\\frac{11}{4}} \\sqrt[4]{\\pi}} \\left(4 m^{2} \\omega^{2} x^{4} - 20 \\hbar m \\omega x^{2} + 15 \\hbar^{2}\\right) e^{- \\frac{m \\omega x^{2}}{2 \\hbar}}$$"
       ],
       "metadata": {},
       "output_type": "pyout",
       "prompt_number": 22,
       "text": [
        "                                                            2 \n",
        "                                                      -m\u22c5\u03c9\u22c5x  \n",
        "                                                      \u2500\u2500\u2500\u2500\u2500\u2500\u2500\u2500\n",
        "  ____        3/4 \u239b   2  2  4             2       2\u239e    2\u22c5\u210f   \n",
        "\u2572\u2571 15 \u22c5x\u22c5(m\u22c5\u03c9)   \u22c5\u239d4\u22c5m \u22c5\u03c9 \u22c5x  - 20\u22c5\u210f\u22c5m\u22c5\u03c9\u22c5x  + 15\u22c5\u210f \u23a0\u22c5\u212f        \n",
        "\u2500\u2500\u2500\u2500\u2500\u2500\u2500\u2500\u2500\u2500\u2500\u2500\u2500\u2500\u2500\u2500\u2500\u2500\u2500\u2500\u2500\u2500\u2500\u2500\u2500\u2500\u2500\u2500\u2500\u2500\u2500\u2500\u2500\u2500\u2500\u2500\u2500\u2500\u2500\u2500\u2500\u2500\u2500\u2500\u2500\u2500\u2500\u2500\u2500\u2500\u2500\u2500\u2500\u2500\u2500\u2500\u2500\u2500\u2500\u2500\u2500\u2500\n",
        "                            11/4 4 ___                        \n",
        "                        30\u22c5\u210f    \u22c5\u2572\u2571 \u03c0                         "
       ]
      }
     ],
     "prompt_number": 22
    },
    {
     "cell_type": "code",
     "collapsed": false,
     "input": [],
     "language": "python",
     "metadata": {},
     "outputs": []
    }
   ],
   "metadata": {}
  }
 ]
}