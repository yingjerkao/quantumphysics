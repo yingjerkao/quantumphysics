{
 "metadata": {
  "name": "",
  "signature": "sha256:48cc769605f51dabc408da2d28fbf7d143ae47de9d70ac0aab6dd73ca827b29e"
 },
 "nbformat": 3,
 "nbformat_minor": 0,
 "worksheets": [
  {
   "cells": [
    {
     "cell_type": "markdown",
     "metadata": {},
     "source": [
      "# Blackbody Radiation"
     ]
    },
    {
     "cell_type": "code",
     "collapsed": false,
     "input": [],
     "language": "python",
     "metadata": {},
     "outputs": []
    }
   ],
   "metadata": {}
  }
 ]
}