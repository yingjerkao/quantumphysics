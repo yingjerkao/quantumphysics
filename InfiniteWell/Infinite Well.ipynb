{
 "metadata": {
  "name": "",
  "signature": "sha256:d16a101e5a6efae69a8def0827e21738dc23a5f42e00820d552683f30e6e7926"
 },
 "nbformat": 3,
 "nbformat_minor": 0,
 "worksheets": [
  {
   "cells": [
    {
     "cell_type": "code",
     "collapsed": false,
     "input": [
      "\n",
      "%pylab inline --no-import-all\n",
      "from IPython.html.widgets import interact, interactive\n",
      "from IPython.html import widgets\n",
      "from IPython.display import display, Math, Latex\n",
      "\n",
      "from sympy import *\n",
      "import sympy.plotting as splt\n",
      "init_printing(use_latex='mathjax')"
     ],
     "language": "python",
     "metadata": {},
     "outputs": [
      {
       "output_type": "stream",
       "stream": "stdout",
       "text": [
        "Populating the interactive namespace from numpy and matplotlib\n"
       ]
      }
     ],
     "prompt_number": 1
    },
    {
     "cell_type": "code",
     "collapsed": false,
     "input": [
      "var('x')\n",
      "def phi(n,a):\n",
      "    return sqrt(2)/sqrt(a)*sin(n*pi*x/a)\n",
      "\n",
      "def eigen(n):\n",
      "    p = splt.plot_parametric((0, x),(x,0, 2), line_color='green',show=False)\n",
      "    p.extend(splt.plot_parametric((5, x),(x,0, 2), line_color='green',show=False))\n",
      "    display( Math(\"\\psi(x)=\"),phi(n,5))\n",
      "    q=plot(phi(n,5),(x,0,5),show=False)\n",
      "    p.extend(q)\n",
      "    p.show()\n",
      "interact(eigen,n=(1,10));\n",
      "\n"
     ],
     "language": "python",
     "metadata": {},
     "outputs": [
      {
       "latex": [
        "$$\\psi(x)=$$"
       ],
       "metadata": {},
       "output_type": "display_data",
       "text": [
        "<IPython.core.display.Math at 0x10753a9d0>"
       ]
      },
      {
       "latex": [
        "$$\\frac{\\sqrt{10}}{5} \\sin{\\left (\\pi x \\right )}$$"
       ],
       "metadata": {},
       "output_type": "display_data",
       "text": [
        "  ____         \n",
        "\u2572\u2571 10 \u22c5sin(\u03c0\u22c5x)\n",
        "\u2500\u2500\u2500\u2500\u2500\u2500\u2500\u2500\u2500\u2500\u2500\u2500\u2500\u2500\u2500\n",
        "       5       "
       ]
      },
      {
       "metadata": {},
       "output_type": "display_data",
       "png": "[encoded data removed]",
       "text": [
        "<matplotlib.figure.Figure at 0x10753a990>"
       ]
      }
     ],
     "prompt_number": 19
    },
    {
     "cell_type": "markdown",
     "metadata": {},
     "source": [
      "\\begin{equation}\n",
      "\\int_0^a \\psi_m(x) \\psi_n(x) dx =\\delta_{mn}\n",
      "\\end{equation}"
     ]
    },
    {
     "cell_type": "code",
     "collapsed": false,
     "input": [
      "integrate(phi(1,5)*phi(2,5),(x,0,5))"
     ],
     "language": "python",
     "metadata": {},
     "outputs": [
      {
       "latex": [
        "$$0$$"
       ],
       "metadata": {},
       "output_type": "pyout",
       "prompt_number": 18,
       "text": [
        "0"
       ]
      }
     ],
     "prompt_number": 18
    },
    {
     "cell_type": "code",
     "collapsed": false,
     "input": [
      "integrate(phi(1,5)*phi(1,5),(x,0,5))"
     ],
     "language": "python",
     "metadata": {},
     "outputs": [
      {
       "latex": [
        "$$1$$"
       ],
       "metadata": {},
       "output_type": "pyout",
       "prompt_number": 20,
       "text": [
        "1"
       ]
      }
     ],
     "prompt_number": 20
    },
    {
     "cell_type": "code",
     "collapsed": false,
     "input": [],
     "language": "python",
     "metadata": {},
     "outputs": []
    }
   ],
   "metadata": {}
  }
 ]
}