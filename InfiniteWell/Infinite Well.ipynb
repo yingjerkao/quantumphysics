{
 "metadata": {
  "name": "",
  "signature": "sha256:cc600b53dd14462b9075b393603b4d152278ad57fe43236dfcc77fd90c261139"
 },
 "nbformat": 3,
 "nbformat_minor": 0,
 "worksheets": [
  {
   "cells": [
    {
     "cell_type": "markdown",
     "metadata": {},
     "source": [
      "#Infinite Well\n",
      "\n",
      "\\begin{align}\n",
      "H\\psi(x)&=E\\psi(x)\\\\\n",
      "H&=\\frac{p^2}{2m}+ V(x),\\quad V(x)=\\left\\{\n",
      "\\begin{split}\n",
      "&0, \\quad 0<x<a;\\\\\n",
      "&\\infty, \\quad \\mbox{otherwise}.\n",
      "\\end{split}\n",
      "\\right.\n",
      "\\end{align}\n",
      "\n",
      "![Infinite Well](Figures/InfiniteWell.jpg)"
     ]
    },
    {
     "cell_type": "markdown",
     "metadata": {},
     "source": [
      "\\begin{align}\n",
      "\\end{align}"
     ]
    },
    {
     "cell_type": "code",
     "collapsed": false,
     "input": [
      "%pylab inline --no-import-all\n",
      "from IPython.html.widgets import interact, interactive\n",
      "from IPython.html import widgets\n",
      "from IPython.display import display, Math, Latex\n",
      "from __future__ import division\n",
      "from sympy import *\n",
      "import sympy.plotting as splt\n",
      "init_printing(use_latex='mathjax')"
     ],
     "language": "python",
     "metadata": {},
     "outputs": [
      {
       "output_type": "stream",
       "stream": "stdout",
       "text": [
        "Populating the interactive namespace from numpy and matplotlib\n"
       ]
      }
     ],
     "prompt_number": 1
    },
    {
     "cell_type": "code",
     "collapsed": false,
     "input": [
      "var('x,a', real=True, positive=True)\n",
      "\n",
      "def phi(n):\n",
      "    return sqrt(2/a)*sin(n*pi*x/a)\n",
      "\n",
      "def phi2(n,a):\n",
      "    return sqrt(2/a)*sin(n*pi*x/a)\n",
      "\n",
      "def eigen(n):\n",
      "    p = splt.plot_parametric((0, x),(x,0, 2), line_color='green',show=False)\n",
      "    p.extend(splt.plot_parametric((5, x),(x,0, 2), line_color='green',show=False))\n",
      "    display( Math(\"\\phi(x)=\"),phi(n))\n",
      "    q=plot(phi2(n,5),(x,0,5),show=False)\n",
      "    p.extend(q)\n",
      "    p.show()\n",
      "interact(eigen,n=(1,10));\n",
      "\n"
     ],
     "language": "python",
     "metadata": {},
     "outputs": [
      {
       "latex": [
        "$$\\phi(x)=$$"
       ],
       "metadata": {},
       "output_type": "display_data",
       "text": [
        "<IPython.core.display.Math at 0x10871f4d0>"
       ]
      },
      {
       "latex": [
        "$$\\frac{\\sqrt{2}}{\\sqrt{a}} \\sin{\\left (\\frac{5 \\pi}{a} x \\right )}$$"
       ],
       "metadata": {},
       "output_type": "display_data",
       "text": [
        "  ___    \u239b5\u22c5\u03c0\u22c5x\u239e\n",
        "\u2572\u2571 2 \u22c5sin\u239c\u2500\u2500\u2500\u2500\u2500\u239f\n",
        "         \u239d  a  \u23a0\n",
        "\u2500\u2500\u2500\u2500\u2500\u2500\u2500\u2500\u2500\u2500\u2500\u2500\u2500\u2500\u2500\u2500\n",
        "       ___      \n",
        "     \u2572\u2571 a       "
       ]
      },
      {
       "metadata": {},
       "output_type": "display_data",
       "png": "[encoded data removed]",
       "text": [
        "<matplotlib.figure.Figure at 0x10871f590>"
       ]
      }
     ],
     "prompt_number": 2
    },
    {
     "cell_type": "markdown",
     "metadata": {},
     "source": [
      "###Eigenfunctions are orthonormal\n",
      "\n",
      "\\begin{equation}\n",
      "\\int_0^a \\psi_m(x) \\psi_n(x) dx =\\delta_{mn}\n",
      "\\end{equation}"
     ]
    },
    {
     "cell_type": "markdown",
     "metadata": {},
     "source": [
      "###Example 1:\n",
      "$m=1$, $n=2$"
     ]
    },
    {
     "cell_type": "code",
     "collapsed": false,
     "input": [
      "eg1=Integral(phi(1)*phi(2),(x,0,a))\n",
      "display(Eq(eg1,eg1.doit()))\n"
     ],
     "language": "python",
     "metadata": {},
     "outputs": [
      {
       "latex": [
        "$$\\int_{0}^{a} \\frac{2}{a} \\sin{\\left (\\frac{\\pi x}{a} \\right )} \\sin{\\left (\\frac{2 \\pi}{a} x \\right )}\\, dx = 0$$"
       ],
       "metadata": {},
       "output_type": "display_data",
       "text": [
        "a                             \n",
        "\u2320                             \n",
        "\u23ae      \u239b\u03c0\u22c5x\u239e    \u239b2\u22c5\u03c0\u22c5x\u239e       \n",
        "\u23ae 2\u22c5sin\u239c\u2500\u2500\u2500\u239f\u22c5sin\u239c\u2500\u2500\u2500\u2500\u2500\u239f       \n",
        "\u23ae      \u239d a \u23a0    \u239d  a  \u23a0       \n",
        "\u23ae \u2500\u2500\u2500\u2500\u2500\u2500\u2500\u2500\u2500\u2500\u2500\u2500\u2500\u2500\u2500\u2500\u2500\u2500\u2500\u2500\u2500 dx = 0\n",
        "\u23ae           a                 \n",
        "\u2321                             \n",
        "0                             "
       ]
      }
     ],
     "prompt_number": 3
    },
    {
     "cell_type": "markdown",
     "metadata": {},
     "source": [
      "###Example 2:\n",
      "$m=n=2$\n"
     ]
    },
    {
     "cell_type": "code",
     "collapsed": false,
     "input": [
      "\n",
      "eg2=Integral(phi(2)*phi(2),(x,0,a))\n",
      "display(Eq(eg2,eg2.doit()))"
     ],
     "language": "python",
     "metadata": {},
     "outputs": [
      {
       "latex": [
        "$$\\int_{0}^{a} \\frac{2}{a} \\sin^{2}{\\left (\\frac{2 \\pi}{a} x \\right )}\\, dx = 1$$"
       ],
       "metadata": {},
       "output_type": "display_data",
       "text": [
        "a                     \n",
        "\u2320                     \n",
        "\u23ae      2\u239b2\u22c5\u03c0\u22c5x\u239e       \n",
        "\u23ae 2\u22c5sin \u239c\u2500\u2500\u2500\u2500\u2500\u239f       \n",
        "\u23ae       \u239d  a  \u23a0       \n",
        "\u23ae \u2500\u2500\u2500\u2500\u2500\u2500\u2500\u2500\u2500\u2500\u2500\u2500\u2500 dx = 1\n",
        "\u23ae       a             \n",
        "\u2321                     \n",
        "0                     "
       ]
      }
     ],
     "prompt_number": 5
    },
    {
     "cell_type": "code",
     "collapsed": false,
     "input": [],
     "language": "python",
     "metadata": {},
     "outputs": [],
     "prompt_number": 4
    }
   ],
   "metadata": {}
  }
 ]
}