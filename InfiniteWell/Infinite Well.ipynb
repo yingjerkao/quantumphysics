{
 "metadata": {
  "name": "",
  "signature": "sha256:721a92125f0349d23ce0435b480c2d06b568a9d792f00e9514c983d3b707811f"
 },
 "nbformat": 3,
 "nbformat_minor": 0,
 "worksheets": [
  {
   "cells": [
    {
     "cell_type": "markdown",
     "metadata": {},
     "source": [
      "#Infinite Well\n",
      "\n"
     ]
    },
    {
     "cell_type": "code",
     "collapsed": false,
     "input": [
      "\n",
      "%pylab inline --no-import-all\n",
      "from IPython.html.widgets import interact, interactive\n",
      "from IPython.html import widgets\n",
      "from IPython.display import display, Math, Latex\n",
      "from __future__ import division\n",
      "from sympy import *\n",
      "import sympy.plotting as splt\n",
      "init_printing(use_latex='mathjax')"
     ],
     "language": "python",
     "metadata": {},
     "outputs": [
      {
       "output_type": "stream",
       "stream": "stdout",
       "text": [
        "Populating the interactive namespace from numpy and matplotlib\n"
       ]
      }
     ],
     "prompt_number": 2
    },
    {
     "cell_type": "code",
     "collapsed": false,
     "input": [
      "var('x,a', real=True)\n",
      "Q.real(a)\n",
      "def phi(n):\n",
      "    return sqrt(2/a)*sin(n*pi*x/a)\n",
      "\n",
      "def phi2(n,a):\n",
      "    return sqrt(2/a)*sin(n*pi*x/a)\n",
      "\n",
      "def eigen(n):\n",
      "    p = splt.plot_parametric((0, x),(x,0, 2), line_color='green',show=False)\n",
      "    p.extend(splt.plot_parametric((5, x),(x,0, 2), line_color='green',show=False))\n",
      "    display( Math(\"\\phi(x)=\"),phi(n))\n",
      "    q=plot(phi2(n,5),(x,0,5),show=False)\n",
      "    p.extend(q)\n",
      "    p.show()\n",
      "interact(eigen,n=(1,10));\n",
      "\n"
     ],
     "language": "python",
     "metadata": {},
     "outputs": [
      {
       "latex": [
        "$$\\phi(x)=$$"
       ],
       "metadata": {},
       "output_type": "display_data",
       "text": [
        "<IPython.core.display.Math at 0x10750c450>"
       ]
      },
      {
       "latex": [
        "$$\\sqrt{2} \\sqrt{\\frac{1}{a}} \\sin{\\left (\\frac{4 \\pi}{a} x \\right )}$$"
       ],
       "metadata": {},
       "output_type": "display_data",
       "text": [
        "          ___           \n",
        "  ___    \u2571 1     \u239b4\u22c5\u03c0\u22c5x\u239e\n",
        "\u2572\u2571 2 \u22c5  \u2571  \u2500 \u22c5sin\u239c\u2500\u2500\u2500\u2500\u2500\u239f\n",
        "      \u2572\u2571   a     \u239d  a  \u23a0"
       ]
      },
      {
       "metadata": {},
       "output_type": "display_data",
       "png": "[encoded data removed]",
       "text": [
        "<matplotlib.figure.Figure at 0x104451e10>"
       ]
      }
     ],
     "prompt_number": 3
    },
    {
     "cell_type": "markdown",
     "metadata": {},
     "source": [
      "###Eigenfunctions are orthonormal\n",
      "\n",
      "\\begin{equation}\n",
      "\\int_0^a \\psi_m(x) \\psi_n(x) dx =\\delta_{mn}\n",
      "\\end{equation}"
     ]
    },
    {
     "cell_type": "markdown",
     "metadata": {},
     "source": [
      "Example 1:"
     ]
    },
    {
     "cell_type": "code",
     "collapsed": false,
     "input": [
      "eg1=Integral(phi(1)*phi(2),(x,0,a))\n",
      "display(Eq(eg1,eg1.doit()))\n"
     ],
     "language": "python",
     "metadata": {},
     "outputs": [
      {
       "latex": [
        "$$\\int_{0}^{a} \\frac{2}{a} \\sin{\\left (\\frac{\\pi x}{a} \\right )} \\sin{\\left (\\frac{2 \\pi}{a} x \\right )}\\, dx = 0$$"
       ],
       "metadata": {},
       "output_type": "display_data",
       "text": [
        "a                             \n",
        "\u2320                             \n",
        "\u23ae      \u239b\u03c0\u22c5x\u239e    \u239b2\u22c5\u03c0\u22c5x\u239e       \n",
        "\u23ae 2\u22c5sin\u239c\u2500\u2500\u2500\u239f\u22c5sin\u239c\u2500\u2500\u2500\u2500\u2500\u239f       \n",
        "\u23ae      \u239d a \u23a0    \u239d  a  \u23a0       \n",
        "\u23ae \u2500\u2500\u2500\u2500\u2500\u2500\u2500\u2500\u2500\u2500\u2500\u2500\u2500\u2500\u2500\u2500\u2500\u2500\u2500\u2500\u2500 dx = 0\n",
        "\u23ae           a                 \n",
        "\u2321                             \n",
        "0                             "
       ]
      }
     ],
     "prompt_number": 4
    },
    {
     "cell_type": "markdown",
     "metadata": {},
     "source": [
      "Example 2:\n",
      "\n"
     ]
    },
    {
     "cell_type": "code",
     "collapsed": false,
     "input": [
      "\n",
      "eg2=Integral(phi(1)*phi(1),(x,0,a))\n",
      "display(Eq(eg2,eg2.doit().subs(a,1)))\n"
     ],
     "language": "python",
     "metadata": {},
     "outputs": [
      {
       "latex": [
        "$$\\int_{0}^{a} \\frac{2}{a} \\sin^{2}{\\left (\\frac{\\pi x}{a} \\right )}\\, dx = 1$$"
       ],
       "metadata": {},
       "output_type": "display_data",
       "text": [
        "a                   \n",
        "\u2320                   \n",
        "\u23ae      2\u239b\u03c0\u22c5x\u239e       \n",
        "\u23ae 2\u22c5sin \u239c\u2500\u2500\u2500\u239f       \n",
        "\u23ae       \u239d a \u23a0       \n",
        "\u23ae \u2500\u2500\u2500\u2500\u2500\u2500\u2500\u2500\u2500\u2500\u2500 dx = 1\n",
        "\u23ae      a            \n",
        "\u2321                   \n",
        "0                   "
       ]
      }
     ],
     "prompt_number": 12
    }
   ],
   "metadata": {}
  }
 ]
}