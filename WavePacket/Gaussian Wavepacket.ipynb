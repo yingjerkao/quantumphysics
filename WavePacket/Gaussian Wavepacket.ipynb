{
 "metadata": {
  "name": "",
  "signature": "sha256:4305a3ef2360f64961149051e58f0f3a77e4dd81f489b1f357eaae79a4344776"
 },
 "nbformat": 3,
 "nbformat_minor": 0,
 "worksheets": [
  {
   "cells": [
    {
     "cell_type": "code",
     "collapsed": false,
     "input": [
      "#%pylab inline --no-import-all\n",
      "\n",
      "import numpy as np\n",
      "import matplotlib.pyplot as plt \n",
      "%matplotlib inline\n",
      "from sympy import *\n",
      "import sympy.plotting as splt\n",
      "#from sympy.utilities.lambdify import lambdify\n",
      "import scipy.special as sp \n",
      "from __future__ import division\n",
      "from IPython.display import display, Latex\n",
      "from IPython.html.widgets import interactive\n",
      "from IPython.html import widgets\n",
      "\n",
      "\n",
      "init_printing(use_unicode=True, wrap_line=False, no_global=True, use_latex='mathjax')\n",
      "var('x', real=True)\n",
      "var('k,dx',real=True,positive=True)  # define variables x, y, dx\n",
      "dx=1/sqrt(2)           # width in x-space\n",
      "#q=Function(\"q\")(x)\n",
      "q=exp(-(x/dx)**2/4)     # Gaussian waveform\n",
      "a=sqrt(integrate(abs(q)**2,(x,-oo,oo)))      # normalization constant\n",
      "#p=1/sqrt(2*pi)*integrate(q*exp(I*x*k)/a,(x,-oo,oo)).simplify()    #Fourier transformation\n",
      "p=1/sqrt(2*pi)*fourier_transform(q,x,k/2/pi)\n",
      "\n",
      "\n",
      "xpts=np.linspace(-5,5,100)\n",
      "f=lambdify(x,q/a,'numpy')\n",
      "g=lambdify(k,p,['numpy'])\n",
      "fig1=plt.figure()\n",
      "ax1=fig1.add_subplot(111)\n",
      "ax1.set_xlabel(\"$x$\",fontsize=18)\n",
      "ax1.set_ylabel(\"$\\psi(x)$\",fontsize=18)\n",
      "ax1.set_title('Real Space',fontsize=18) \n",
      "ax1.plot(xpts, f(xpts) ,color='red')\n",
      "plt.show()\n",
      "display(Latex('$\\psi(x)='+str(latex(q/a))+'$'))\n",
      "\n",
      "fig2=plt.figure(frameon=False)\n",
      "ax2=fig2.add_subplot(111)\n",
      "ax2.set_xlabel(\"$k$\",fontsize=18)\n",
      "ax2.set_ylabel(\"$\\phi(k)$\",fontsize=18)\n",
      "ax2.set_title('Fourier Space',fontsize=18) \n",
      "ax2.plot(xpts,g(xpts))\n",
      "\n",
      "plt.show()\n",
      "display(Latex('$\\phi(k)='+str(latex(p))+'$'))\n",
      "\n",
      "\n",
      "\n"
     ],
     "language": "python",
     "metadata": {},
     "outputs": [
      {
       "metadata": {},
       "output_type": "display_data",
       "png": "[encoded data removed]",
       "text": [
        "<matplotlib.figure.Figure at 0x10f962b50>"
       ]
      },
      {
       "latex": [
        "$\\psi(x)=\\frac{e^{- \\frac{x^{2}}{2}}}{\\sqrt[4]{\\pi}}$"
       ],
       "metadata": {},
       "output_type": "display_data",
       "text": [
        "<IPython.core.display.Latex at 0x10fbe5550>"
       ]
      },
      {
       "metadata": {},
       "output_type": "display_data",
       "png": "[encoded data removed]",
       "text": [
        "<matplotlib.figure.Figure at 0x10fb0a110>"
       ]
      },
      {
       "latex": [
        "$\\phi(k)=e^{- \\frac{k^{2}}{2}}$"
       ],
       "metadata": {},
       "output_type": "display_data",
       "text": [
        "<IPython.core.display.Latex at 0x10fb0a1d0>"
       ]
      }
     ],
     "prompt_number": 1
    },
    {
     "cell_type": "code",
     "collapsed": false,
     "input": [
      "var('k',real=True, postive=True)  # define  variables x, y, dx\n",
      "dx=1/sqrt(2)          # width in x-space\n",
      "\n",
      "\n",
      "def Gaussian(k0):\n",
      "    q=exp(-(x/dx)**2/4)*exp(I*k0*x)/a      # Gaussian wave packet\n",
      "    #p=1/sqrt(2*pi)/a*integrate((q*exp(-I*x*k)).simplify(), (x,-oo,oo))   #Fourier transformation\n",
      "    #p=p.simplify()\n",
      "    p=1/sqrt(2*pi)*fourier_transform(q,x,k/2/pi)\n",
      "    qr=q.as_real_imag()[0] # take the real part\n",
      "    pr=p.as_real_imag()[0] # take the real part\n",
      "    f=lambdify(x,qr,'numpy')\n",
      "    g=lambdify(k,pr,'numpy')\n",
      "    h=lambdify(x,abs(q)**2,'numpy')\n",
      "    xpts=np.linspace(-15,15,1000)\n",
      "\n",
      "    fig1=plt.figure()\n",
      "    ax1=fig1.add_subplot(111)\n",
      "    ax1.set_xlabel(\"$x$\",fontsize=18)\n",
      "    ax1.set_ylabel(\"$\\psi(x), |\\psi(x)|^2$\",fontsize=18)\n",
      "    ax1.set_title('Real Space',fontsize=18) \n",
      "    ax1.plot(xpts, f(xpts) ,color='red', label='$\\psi$')\n",
      "    ax1.plot(xpts, h(xpts) ,color='green',label='$|\\psi|^2$')\n",
      "    ax1.annotate('$k0=$'+str(k0), xy=(.6, .6),  xycoords='axes fraction',fontsize=18)\n",
      "    ax1.set_ylim([-1,1])\n",
      "    ax1.legend()\n",
      "    plt.show()\n",
      "    display(Latex('$\\psi(x)='+str(latex(q))+'$'))\n",
      "\n",
      "    fig2=plt.figure(frameon=False)\n",
      "    ax2=fig2.add_subplot(111)\n",
      "    ax2.set_xlabel(\"$k$\",fontsize=18)\n",
      "    ax2.set_ylabel(\"$\\phi(k)$\",fontsize=18)\n",
      "    ax2.set_title('Fourier Space',fontsize=18) \n",
      "    ax2.plot(xpts,g(xpts))\n",
      "    ax2.annotate('$k0=$'+str(k0), xy=(k0/20+0.52, .6),  xycoords='axes fraction',fontsize=18)\n",
      "    ax2.set_ylim([-0.1,1])\n",
      "    plt.show()\n",
      "    display(Latex('$\\phi(k)='+str(latex(p))+'$'))\n",
      "    \n",
      "\n",
      "    \n",
      "    \n",
      "w=interactive(Gaussian,k0=(0,10,1))\n",
      "display(w)\n",
      "#display(qr)\n",
      "#s1=splt.plot(qr/a,(x,-5,15),line_color='red',fontsize=14)    # plot curve q(x)   \n",
      "#s2=splt.plot(pr,(k,-5,15),line_color='blue',fontsize=14)      # plot curve p(k)\n",
      "#s3=splt.plot(abs(q)^2/a,(x,-5,15),line_color='green',fontsize=14)"
     ],
     "language": "python",
     "metadata": {},
     "outputs": [
      {
       "metadata": {},
       "output_type": "display_data",
       "png": "[encoded data removed]",
       "text": [
        "<matplotlib.figure.Figure at 0x11043da10>"
       ]
      },
      {
       "latex": [
        "$\\psi(x)=\\frac{e^{- \\frac{x^{2}}{2}}}{\\sqrt[4]{\\pi}} e^{5 i x}$"
       ],
       "metadata": {},
       "output_type": "display_data",
       "text": [
        "<IPython.core.display.Latex at 0x1105c1d90>"
       ]
      },
      {
       "metadata": {},
       "output_type": "display_data",
       "png": "[encoded data removed]",
       "text": [
        "<matplotlib.figure.Figure at 0x10fcd0c50>"
       ]
      },
      {
       "latex": [
        "$\\phi(k)=\\frac{1}{\\sqrt[4]{\\pi}} e^{- \\frac{1}{2} \\left(k - 5\\right)^{2}}$"
       ],
       "metadata": {},
       "output_type": "display_data",
       "text": [
        "<IPython.core.display.Latex at 0x110623350>"
       ]
      }
     ],
     "prompt_number": 2
    },
    {
     "cell_type": "code",
     "collapsed": false,
     "input": [
      "var('z,k, x', real=True)\n",
      "var('t, w, k_0',real=True,positive=True)\n",
      "dx=1\n",
      "\n",
      "q=exp(-(x/dx)**2/4)*exp(I*k_0*x)     # Gaussian wave packet\n",
      "#q=exp(-(x/dx)**2/4)*(cos(k_0*x)+I*sin(k_0*x)) \n",
      "a=sqrt(integrate(exp(-(x/dx)**2/4)**2,(x,-oo,oo)))\n",
      "display(a)\n",
      "q=(q/a).simplify()\n",
      "display(q)\n",
      "#p=1/sqrt(2*pi)*integrate((q*exp(-I*x*k)).simplify(), (x,-oo,oo))   #Fourier transformation\n",
      "#p=1/sqrt(2*pi)*fourier_transform(q,x,k/2/pi)\n",
      "p=fourier_transform(q,x,k).simplify()\n",
      "#display(p)\n",
      "w=k*k/10\n",
      "#qt=Function('qt')(z,k_0,t)\n",
      "#qt=p*exp(I*(z*k-w*t))\n",
      "#qt=qt.simplify()\n",
      "#display(qt)\n",
      "#qt=(1/sqrt(2*pi)*integrate(qt,(k,-oo,oo))).simplify()\n",
      "#qt=1/sqrt(2*pi)*inverse_fourier_transform(p*exp(-I*w*t),k, x)\n",
      "qt=inverse_fourier_transform(p*exp(-I*w*t),k,x)#.subs(exp_polar, exp)\n",
      "\n",
      "display((qt))\n",
      "display(re(qt))\n",
      "def WavePacket(k0,t0):\n",
      "    #qt=inverse_fourier_transform((p.subs(k_0,k0)*exp(-I*w*t0)),k,x)\n",
      "    #print type(qt)\n",
      "    \n",
      "    qr=re(q.subs([(k_0,k0)]))\n",
      "    qtr=re(qt.subs([(k_0,k0),(t,t0)]))  # take the real part\n",
      "    \n",
      "    #display(q)\n",
      "    #display(qr)\n",
      "    display(qt)\n",
      "  #  print qt\n",
      "    display(qtr)\n",
      "    f=lambdify(x,qr,'numpy')\n",
      "    g=lambdify(x,qtr,'numpy')\n",
      "   \n",
      "    xpts=np.linspace(-10,10,1000)\n",
      "\n",
      "    fig1=plt.figure()\n",
      "    ax1=fig1.add_subplot(111)\n",
      "    ax1.set_xlabel(\"$x$\",fontsize=18)\n",
      "    ax1.set_ylabel(\"$\\psi(x,t)$\",fontsize=18)\n",
      "    ax1.set_title('Real Space',fontsize=18) \n",
      "    ax1.plot(xpts, f(xpts) ,color='red', label='$\\psi(x,0)$')\n",
      "    ax1.plot(xpts, g(xpts) ,color='green',label='$\\psi(x,t)$')\n",
      "    ax1.annotate('$t=$'+str(t0), xy=(.6, .6),  xycoords='axes fraction',fontsize=18)\n",
      "    #ax1.set_ylim([-1,1])\n",
      "    ax1.legend()\n",
      "    plt.show()\n",
      "    display(Latex('$\\psi(x,0)='+str(latex(qr))+'$'))\n",
      "    display(Latex('$\\psi(x,'+str(t0)+')='+str(latex(qtr))+'$'))\n",
      "###   \n",
      "    \n",
      "    \n",
      "g2=interactive(WavePacket,k0=(0,10,1), t0=(0,10,1))\n",
      "#g2=interactive(WavePacket,t0=(0,1,0.01))\n",
      "display(g2)\n",
      "\n",
      "\n",
      "\n",
      "\n",
      "\n",
      "\n",
      "\n",
      "\n"
     ],
     "language": "python",
     "metadata": {},
     "outputs": [
      {
       "latex": [
        "$$2 \\sqrt[4]{2} \\sqrt{5} \\pi^{\\frac{3}{4}} \\sqrt{- \\frac{1}{t - 40 \\pi^{2} e^{\\frac{i \\pi}{2}}}} e^{\\frac{i \\pi}{4}} e^{\\frac{1}{40 \\pi^{2}} \\left(i k_{0} \\left(- k_{0} t + 40 \\pi^{2} x\\right) - \\frac{\\left(k_{0} t - 20 \\pi^{2} x\\right)^{2}}{i t + 40 \\pi^{2}}\\right)}$$"
       ],
       "metadata": {},
       "output_type": "display_data",
       "text": [
        "                                                                                          2\n",
        "                                                                          \u239b           2  \u239e \n",
        "                                                      \u239b            2  \u239e   \u239dk\u2080\u22c5t - 20\u22c5\u03c0 \u22c5x\u23a0 \n",
        "                                                 \u2148\u22c5k\u2080\u22c5\u239d-k\u2080\u22c5t + 40\u22c5\u03c0 \u22c5x\u23a0 - \u2500\u2500\u2500\u2500\u2500\u2500\u2500\u2500\u2500\u2500\u2500\u2500\u2500\u2500\u2500\u2500\u2500\n",
        "                                                                                       2   \n",
        "                                                                             \u2148\u22c5t + 40\u22c5\u03c0    \n",
        "                                            \u2148\u22c5\u03c0  \u2500\u2500\u2500\u2500\u2500\u2500\u2500\u2500\u2500\u2500\u2500\u2500\u2500\u2500\u2500\u2500\u2500\u2500\u2500\u2500\u2500\u2500\u2500\u2500\u2500\u2500\u2500\u2500\u2500\u2500\u2500\u2500\u2500\u2500\u2500\u2500\u2500\u2500\u2500\u2500\u2500\u2500\n",
        "                          ________________  \u2500\u2500\u2500                        2                   \n",
        "  4 ___   ___  3/4       \u2571      -1           4                     40\u22c5\u03c0                    \n",
        "2\u22c5\u2572\u2571 2 \u22c5\u2572\u2571 5 \u22c5\u03c0   \u22c5     \u2571  \u2500\u2500\u2500\u2500\u2500\u2500\u2500\u2500\u2500\u2500\u2500\u2500\u2500\u2500 \u22c5\u212f   \u22c5\u212f                                          \n",
        "                       \u2571              \u2148\u22c5\u03c0                                                  \n",
        "                      \u2571               \u2500\u2500\u2500                                                  \n",
        "                     \u2571             2   2                                                   \n",
        "                   \u2572\u2571      t - 40\u22c5\u03c0 \u22c5\u212f                                                     "
       ]
      },
      {
       "latex": [
        "$$2 \\sqrt[4]{2} \\sqrt{5} \\pi^{\\frac{3}{4}} \\Re {\\left (\\sqrt{- \\frac{1}{5 - 40 \\pi^{2} e^{\\frac{i \\pi}{2}}}} e^{\\frac{i \\pi}{4}} e^{\\frac{1}{40 \\pi^{2}} \\left(- \\frac{\\left(- 20 \\pi^{2} x + 25\\right)^{2}}{40 \\pi^{2} + 5 i} + 5 i \\left(40 \\pi^{2} x - 25\\right)\\right)} \\right )}$$"
       ],
       "metadata": {},
       "output_type": "display_data",
       "text": [
        "                     \u239b                                                2                     \u239e\n",
        "                     \u239c                                \u239b      2       \u239e                      \u239f\n",
        "                     \u239c                                \u239d- 20\u22c5\u03c0 \u22c5x + 25\u23a0        \u239b    2       \u239e\u239f\n",
        "                     \u239c                              - \u2500\u2500\u2500\u2500\u2500\u2500\u2500\u2500\u2500\u2500\u2500\u2500\u2500\u2500\u2500\u2500\u2500 + 5\u22c5\u2148\u22c5\u239d40\u22c5\u03c0 \u22c5x - 25\u23a0\u239f\n",
        "                     \u239c                                       2                              \u239f\n",
        "                     \u239c                                   40\u22c5\u03c0  + 5\u22c5\u2148                        \u239f\n",
        "                     \u239c                         \u2148\u22c5\u03c0  \u2500\u2500\u2500\u2500\u2500\u2500\u2500\u2500\u2500\u2500\u2500\u2500\u2500\u2500\u2500\u2500\u2500\u2500\u2500\u2500\u2500\u2500\u2500\u2500\u2500\u2500\u2500\u2500\u2500\u2500\u2500\u2500\u2500\u2500\u2500\u2500\u2500\u2500\u2500\u2500\u239f\n",
        "                     \u239c       ________________  \u2500\u2500\u2500                       2                  \u239f\n",
        "  4 ___   ___  3/4   \u239c      \u2571      -1           4                    40\u22c5\u03c0                   \u239f\n",
        "2\u22c5\u2572\u2571 2 \u22c5\u2572\u2571 5 \u22c5\u03c0   \u22c5  \u239c     \u2571  \u2500\u2500\u2500\u2500\u2500\u2500\u2500\u2500\u2500\u2500\u2500\u2500\u2500\u2500 \u22c5\u212f   \u22c5\u212f                                        \u239f\n",
        "                     \u239c    \u2571              \u2148\u22c5\u03c0                                                \u239f\n",
        "                     \u239c   \u2571               \u2500\u2500\u2500                                                \u239f\n",
        "                     \u239c  \u2571             2   2                                                 \u239f\n",
        "                     \u239d\u2572\u2571      5 - 40\u22c5\u03c0 \u22c5\u212f                                                   \u23a0\n",
        "                                                                                             \n",
        "                   re                                                                        "
       ]
      },
      {
       "ename": "NameError",
       "evalue": "global name 'exp_polar' is not defined",
       "output_type": "pyerr",
       "traceback": [
        "\u001b[0;31m---------------------------------------------------------------------------\u001b[0m\n\u001b[0;31mNameError\u001b[0m                                 Traceback (most recent call last)",
        "\u001b[0;32m<ipython-input-55-450daf36a66e>\u001b[0m in \u001b[0;36mWavePacket\u001b[0;34m(k0, t0)\u001b[0m\n\u001b[1;32m     47\u001b[0m     \u001b[0max1\u001b[0m\u001b[0;34m.\u001b[0m\u001b[0mset_title\u001b[0m\u001b[0;34m(\u001b[0m\u001b[0;34m'Real Space'\u001b[0m\u001b[0;34m,\u001b[0m\u001b[0mfontsize\u001b[0m\u001b[0;34m=\u001b[0m\u001b[0;36m18\u001b[0m\u001b[0;34m)\u001b[0m\u001b[0;34m\u001b[0m\u001b[0m\n\u001b[1;32m     48\u001b[0m     \u001b[0max1\u001b[0m\u001b[0;34m.\u001b[0m\u001b[0mplot\u001b[0m\u001b[0;34m(\u001b[0m\u001b[0mxpts\u001b[0m\u001b[0;34m,\u001b[0m \u001b[0mf\u001b[0m\u001b[0;34m(\u001b[0m\u001b[0mxpts\u001b[0m\u001b[0;34m)\u001b[0m \u001b[0;34m,\u001b[0m\u001b[0mcolor\u001b[0m\u001b[0;34m=\u001b[0m\u001b[0;34m'red'\u001b[0m\u001b[0;34m,\u001b[0m \u001b[0mlabel\u001b[0m\u001b[0;34m=\u001b[0m\u001b[0;34m'$\\psi(x,0)$'\u001b[0m\u001b[0;34m)\u001b[0m\u001b[0;34m\u001b[0m\u001b[0m\n\u001b[0;32m---> 49\u001b[0;31m     \u001b[0max1\u001b[0m\u001b[0;34m.\u001b[0m\u001b[0mplot\u001b[0m\u001b[0;34m(\u001b[0m\u001b[0mxpts\u001b[0m\u001b[0;34m,\u001b[0m \u001b[0mg\u001b[0m\u001b[0;34m(\u001b[0m\u001b[0mxpts\u001b[0m\u001b[0;34m)\u001b[0m \u001b[0;34m,\u001b[0m\u001b[0mcolor\u001b[0m\u001b[0;34m=\u001b[0m\u001b[0;34m'green'\u001b[0m\u001b[0;34m,\u001b[0m\u001b[0mlabel\u001b[0m\u001b[0;34m=\u001b[0m\u001b[0;34m'$\\psi(x,t)$'\u001b[0m\u001b[0;34m)\u001b[0m\u001b[0;34m\u001b[0m\u001b[0m\n\u001b[0m\u001b[1;32m     50\u001b[0m     \u001b[0max1\u001b[0m\u001b[0;34m.\u001b[0m\u001b[0mannotate\u001b[0m\u001b[0;34m(\u001b[0m\u001b[0;34m'$t=$'\u001b[0m\u001b[0;34m+\u001b[0m\u001b[0mstr\u001b[0m\u001b[0;34m(\u001b[0m\u001b[0mt0\u001b[0m\u001b[0;34m)\u001b[0m\u001b[0;34m,\u001b[0m \u001b[0mxy\u001b[0m\u001b[0;34m=\u001b[0m\u001b[0;34m(\u001b[0m\u001b[0;36m.6\u001b[0m\u001b[0;34m,\u001b[0m \u001b[0;36m.6\u001b[0m\u001b[0;34m)\u001b[0m\u001b[0;34m,\u001b[0m  \u001b[0mxycoords\u001b[0m\u001b[0;34m=\u001b[0m\u001b[0;34m'axes fraction'\u001b[0m\u001b[0;34m,\u001b[0m\u001b[0mfontsize\u001b[0m\u001b[0;34m=\u001b[0m\u001b[0;36m18\u001b[0m\u001b[0;34m)\u001b[0m\u001b[0;34m\u001b[0m\u001b[0m\n\u001b[1;32m     51\u001b[0m     \u001b[0;31m#ax1.set_ylim([-1,1])\u001b[0m\u001b[0;34m\u001b[0m\u001b[0;34m\u001b[0m\u001b[0m\n",
        "\u001b[0;32m/Applications/anaconda/lib/python2.7/site-packages/numpy/__init__.pyc\u001b[0m in \u001b[0;36m<lambda>\u001b[0;34m(x)\u001b[0m\n",
        "\u001b[0;31mNameError\u001b[0m: global name 'exp_polar' is not defined"
       ]
      },
      {
       "metadata": {},
       "output_type": "display_data",
       "png": "[encoded data removed]",
       "text": [
        "<matplotlib.figure.Figure at 0x11efcd210>"
       ]
      }
     ],
     "prompt_number": 55
    },
    {
     "cell_type": "code",
     "collapsed": false,
     "input": [
      "re(sqrt(-1/(5-40*I*pi**2))*exp(I*pi/4).n())"
     ],
     "language": "python",
     "metadata": {},
     "outputs": [
      {
       "latex": [
        "$$0.707106781186548 \\sqrt[4]{\\frac{25}{\\left(25 + 1600 \\pi^{4}\\right)^{2}} + \\frac{1600 \\pi^{4}}{\\left(25 + 1600 \\pi^{4}\\right)^{2}}} \\sin{\\left (\\frac{1}{2} \\operatorname{atan}{\\left (- \\frac{40 \\pi^{2} \\left(- 320 \\pi^{4} - 5\\right)}{25 + 1600 \\pi^{4}} \\right )} \\right )} + 0.707106781186548 \\sqrt[4]{\\frac{25}{\\left(25 + 1600 \\pi^{4}\\right)^{2}} + \\frac{1600 \\pi^{4}}{\\left(25 + 1600 \\pi^{4}\\right)^{2}}} \\cos{\\left (\\frac{1}{2} \\operatorname{atan}{\\left (- \\frac{40 \\pi^{2} \\left(- 320 \\pi^{4} - 5\\right)}{25 + 1600 \\pi^{4}} \\right )} \\right )}$$"
       ],
       "metadata": {},
       "output_type": "pyout",
       "prompt_number": 50,
       "text": [
        "                                                                \u239b    \u239b     2 \u239b       4    \u239e \u239e\u239e                                                                   \u239b    \u239b     2 \u239b       4    \u239e \u239e\u239e\n",
        "                                                                \u239c    \u239c-40\u22c5\u03c0 \u22c5\u239d- 320\u22c5\u03c0  - 5\u23a0 \u239f\u239f                                                                   \u239c    \u239c-40\u22c5\u03c0 \u22c5\u239d- 320\u22c5\u03c0  - 5\u23a0 \u239f\u239f\n",
        "                         ___________________________________    \u239catan\u239c\u2500\u2500\u2500\u2500\u2500\u2500\u2500\u2500\u2500\u2500\u2500\u2500\u2500\u2500\u2500\u2500\u2500\u2500\u2500\u2500\u2500\u2500\u239f\u239f                            ___________________________________    \u239catan\u239c\u2500\u2500\u2500\u2500\u2500\u2500\u2500\u2500\u2500\u2500\u2500\u2500\u2500\u2500\u2500\u2500\u2500\u2500\u2500\u2500\u2500\u2500\u239f\u239f\n",
        "                        \u2571                             4         \u239c    \u239c                4     \u239f\u239f                           \u2571                             4         \u239c    \u239c                4     \u239f\u239f\n",
        "                       \u2571         25             1600\u22c5\u03c0          \u239c    \u239d     25 + 1600\u22c5\u03c0      \u23a0\u239f                          \u2571         25             1600\u22c5\u03c0          \u239c    \u239d     25 + 1600\u22c5\u03c0      \u23a0\u239f\n",
        "0.707106781186548\u22c5    \u2571   \u2500\u2500\u2500\u2500\u2500\u2500\u2500\u2500\u2500\u2500\u2500\u2500\u2500\u2500\u2500 + \u2500\u2500\u2500\u2500\u2500\u2500\u2500\u2500\u2500\u2500\u2500\u2500\u2500\u2500\u2500 \u22c5   \u239c\u2500\u2500\u2500\u2500\u2500\u2500\u2500\u2500\u2500\u2500\u2500\u2500\u2500\u2500\u2500\u2500\u2500\u2500\u2500\u2500\u2500\u2500\u2500\u2500\u2500\u2500\u2500\u2500\u239f + 0.707106781186548\u22c5    \u2571   \u2500\u2500\u2500\u2500\u2500\u2500\u2500\u2500\u2500\u2500\u2500\u2500\u2500\u2500\u2500 + \u2500\u2500\u2500\u2500\u2500\u2500\u2500\u2500\u2500\u2500\u2500\u2500\u2500\u2500\u2500 \u22c5   \u239c\u2500\u2500\u2500\u2500\u2500\u2500\u2500\u2500\u2500\u2500\u2500\u2500\u2500\u2500\u2500\u2500\u2500\u2500\u2500\u2500\u2500\u2500\u2500\u2500\u2500\u2500\u2500\u2500\u239f\n",
        "                     \u2571                  2                 2     \u239d             2              \u23a0                        \u2571                  2                 2     \u239d             2              \u23a0\n",
        "                  4 \u2571     \u239b           4\u239e    \u239b           4\u239e   sin                                                   4 \u2571     \u239b           4\u239e    \u239b           4\u239e   cos                              \n",
        "                  \u2572\u2571      \u239d25 + 1600\u22c5\u03c0 \u23a0    \u239d25 + 1600\u22c5\u03c0 \u23a0                                                         \u2572\u2571      \u239d25 + 1600\u22c5\u03c0 \u23a0    \u239d25 + 1600\u22c5\u03c0 \u23a0                                    "
       ]
      }
     ],
     "prompt_number": 50
    },
    {
     "cell_type": "code",
     "collapsed": false,
     "input": [
      "sqrt(1/(40*I)).n()"
     ],
     "language": "python",
     "metadata": {},
     "outputs": [
      {
       "latex": [
        "$$0.111803398874989 - 0.111803398874989 i$$"
       ],
       "metadata": {},
       "output_type": "pyout",
       "prompt_number": 39,
       "text": [
        "0.111803398874989 - 0.111803398874989\u22c5\u2148"
       ]
      }
     ],
     "prompt_number": 39
    },
    {
     "cell_type": "code",
     "collapsed": false,
     "input": [
      "Function?"
     ],
     "language": "python",
     "metadata": {},
     "outputs": [],
     "prompt_number": 77
    },
    {
     "cell_type": "code",
     "collapsed": false,
     "input": [
      "exp(I*pi/2)"
     ],
     "language": "python",
     "metadata": {},
     "outputs": [
      {
       "latex": [
        "$$i$$"
       ],
       "metadata": {},
       "output_type": "pyout",
       "prompt_number": 104,
       "text": [
        "\u2148"
       ]
      }
     ],
     "prompt_number": 104
    },
    {
     "cell_type": "code",
     "collapsed": false,
     "input": [
      "print qt.subs([(k_0,5),(t,1)]).as_real_imag()[0]"
     ],
     "language": "python",
     "metadata": {},
     "outputs": [
      {
       "output_type": "stream",
       "stream": "stdout",
       "text": [
        "2*2**(1/4)*sqrt(5)*pi**(3/4)*re(exp_polar(I*pi/4)*exp((-40*pi**4*x**2 + 400*I*pi**3*x - 25*I)/(40*pi**2 + I))/sqrt(-1 + 40*pi**2*exp_polar(I*pi/2)))\n"
       ]
      }
     ],
     "prompt_number": 13
    },
    {
     "cell_type": "code",
     "collapsed": false,
     "input": [
      "principal_branch(exp_polar(I*pi/2),2*pi)"
     ],
     "language": "python",
     "metadata": {},
     "outputs": [
      {
       "latex": [
        "$$e^{\\frac{i \\pi}{2}}$$"
       ],
       "metadata": {},
       "output_type": "pyout",
       "prompt_number": 17,
       "text": [
        " \u2148\u22c5\u03c0\n",
        " \u2500\u2500\u2500\n",
        "  2 \n",
        "\u212f   "
       ]
      }
     ],
     "prompt_number": 17
    },
    {
     "cell_type": "code",
     "collapsed": false,
     "input": [
      "exp(I*pi/2)"
     ],
     "language": "python",
     "metadata": {},
     "outputs": [
      {
       "latex": [
        "$$i$$"
       ],
       "metadata": {},
       "output_type": "pyout",
       "prompt_number": 18,
       "text": [
        "\u2148"
       ]
      }
     ],
     "prompt_number": 18
    },
    {
     "cell_type": "code",
     "collapsed": false,
     "input": [
      "###\n",
      "def WavePacket(k0,t0):\n",
      "    #qt=inverse_fourier_transform((p.subs(k_0,k0)*exp(-I*w*t0)),k,x)\n",
      "    #print type(qt)\n",
      "    \n",
      "    qr=re(q.subs([(k_0,k0)]))\n",
      "    qtr=re(qt.subs([(k_0,k0),(t,t0),(exp_polar,exp)]))  # take the real part\n",
      "    \n",
      "    #display(q)\n",
      "    #display(qr)\n",
      "    display(qt)\n",
      "  #  print qt\n",
      "    display(qtr)\n",
      "    f=lambdify(x,qr,'numpy')\n",
      "    g=lambdify(x,qtr,'numpy')\n",
      "   \n",
      "    xpts=np.linspace(-10,10,1000)\n",
      "\n",
      "    fig1=plt.figure()\n",
      "    ax1=fig1.add_subplot(111)\n",
      "    ax1.set_xlabel(\"$x$\",fontsize=18)\n",
      "    ax1.set_ylabel(\"$\\psi(x,t)$\",fontsize=18)\n",
      "    ax1.set_title('Real Space',fontsize=18) \n",
      "  #  ax1.plot(xpts, f(xpts) ,color='red', label='$\\psi(x,0)$')\n",
      "    ax1.plot(xpts, g(xpts) ,color='green',label='$\\psi(x,t)$')\n",
      "    ax1.annotate('$t=$'+str(t0), xy=(.6, .6),  xycoords='axes fraction',fontsize=18)\n",
      "    #ax1.set_ylim([-1,1])\n",
      "    ax1.legend()\n",
      "    plt.show()\n",
      "    display(Latex('$\\psi(x,0)='+str(latex(qr))+'$'))\n",
      "    display(Latex('$\\psi(x,'+str(t0)+')='+str(latex(qtr))+'$'))\n",
      "###   \n",
      "    \n",
      "    \n",
      "g2=interactive(WavePacket,k0=(0,10,1), t0=(0,10,1))\n",
      "#g2=interactive(WavePacket,t0=(0,1,0.01))\n",
      "display(g2)"
     ],
     "language": "python",
     "metadata": {},
     "outputs": []
    }
   ],
   "metadata": {}
  }
 ]
}