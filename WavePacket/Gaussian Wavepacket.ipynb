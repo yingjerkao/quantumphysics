{
 "metadata": {
  "name": "",
  "signature": "sha256:4305a3ef2360f64961149051e58f0f3a77e4dd81f489b1f357eaae79a4344776"
 },
 "nbformat": 3,
 "nbformat_minor": 0,
 "worksheets": [
  {
   "cells": [
    {
     "cell_type": "code",
     "collapsed": false,
     "input": [
      "#%pylab inline --no-import-all\n",
      "\n",
      "import numpy as np\n",
      "import matplotlib.pyplot as plt \n",
      "%matplotlib inline\n",
      "from sympy import *\n",
      "import sympy.plotting as splt\n",
      "#from sympy.utilities.lambdify import lambdify\n",
      "import scipy.special as sp \n",
      "from __future__ import division\n",
      "from IPython.display import display, Latex\n",
      "from IPython.html.widgets import interactive\n",
      "from IPython.html import widgets\n",
      "\n",
      "\n",
      "init_printing(use_unicode=True, wrap_line=False, no_global=True, use_latex='mathjax')\n",
      "var('x', real=True)\n",
      "var('k,dx',real=True,positive=True)  # define variables x, y, dx\n",
      "dx=1/sqrt(2)           # width in x-space\n",
      "#q=Function(\"q\")(x)\n",
      "q=exp(-(x/dx)**2/4)     # Gaussian waveform\n",
      "a=sqrt(integrate(abs(q)**2,(x,-oo,oo)))      # normalization constant\n",
      "#p=1/sqrt(2*pi)*integrate(q*exp(I*x*k)/a,(x,-oo,oo)).simplify()    #Fourier transformation\n",
      "p=1/sqrt(2*pi)*fourier_transform(q,x,k/2/pi)\n",
      "\n",
      "\n",
      "xpts=np.linspace(-5,5,100)\n",
      "f=lambdify(x,q/a,'numpy')\n",
      "g=lambdify(k,p,['numpy'])\n",
      "fig1=plt.figure()\n",
      "ax1=fig1.add_subplot(111)\n",
      "ax1.set_xlabel(\"$x$\",fontsize=18)\n",
      "ax1.set_ylabel(\"$\\psi(x)$\",fontsize=18)\n",
      "ax1.set_title('Real Space',fontsize=18) \n",
      "ax1.plot(xpts, f(xpts) ,color='red')\n",
      "plt.show()\n",
      "display(Latex('$\\psi(x)='+str(latex(q/a))+'$'))\n",
      "\n",
      "fig2=plt.figure(frameon=False)\n",
      "ax2=fig2.add_subplot(111)\n",
      "ax2.set_xlabel(\"$k$\",fontsize=18)\n",
      "ax2.set_ylabel(\"$\\phi(k)$\",fontsize=18)\n",
      "ax2.set_title('Fourier Space',fontsize=18) \n",
      "ax2.plot(xpts,g(xpts))\n",
      "\n",
      "plt.show()\n",
      "display(Latex('$\\phi(k)='+str(latex(p))+'$'))\n",
      "\n",
      "\n",
      "\n"
     ],
     "language": "python",
     "metadata": {},
     "outputs": [
      {
       "metadata": {},
       "output_type": "display_data",
       "png": "[encoded data removed]",
       "text": [
        "<matplotlib.figure.Figure at 0x107c3d190>"
       ]
      },
      {
       "latex": [
        "$\\psi(x)=\\frac{e^{- \\frac{x^{2}}{2}}}{\\sqrt[4]{\\pi}}$"
       ],
       "metadata": {},
       "output_type": "display_data",
       "text": [
        "<IPython.core.display.Latex at 0x107e0f6d0>"
       ]
      },
      {
       "metadata": {},
       "output_type": "display_data",
       "png": "[encoded data removed]",
       "text": [
        "<matplotlib.figure.Figure at 0x107d5a290>"
       ]
      },
      {
       "latex": [
        "$\\phi(k)=e^{- \\frac{k^{2}}{2}}$"
       ],
       "metadata": {},
       "output_type": "display_data",
       "text": [
        "<IPython.core.display.Latex at 0x107d11890>"
       ]
      }
     ],
     "prompt_number": 1
    },
    {
     "cell_type": "code",
     "collapsed": false,
     "input": [
      "var('k',real=True, postive=True)  # define  variables x, y, dx\n",
      "dx=1/sqrt(2)          # width in x-space\n",
      "\n",
      "\n",
      "def Gaussian(k0):\n",
      "    q=exp(-(x/dx)**2/4)*exp(I*k0*x)/a      # Gaussian wave packet\n",
      "    #p=1/sqrt(2*pi)/a*integrate((q*exp(-I*x*k)).simplify(), (x,-oo,oo))   #Fourier transformation\n",
      "    #p=p.simplify()\n",
      "    p=1/sqrt(2*pi)*fourier_transform(q,x,k/2/pi)\n",
      "    qr=q.as_real_imag()[0] # take the real part\n",
      "    pr=p.as_real_imag()[0] # take the real part\n",
      "    f=lambdify(x,qr,'numpy')\n",
      "    g=lambdify(k,pr,'numpy')\n",
      "    h=lambdify(x,abs(q)**2,'numpy')\n",
      "    xpts=np.linspace(-15,15,1000)\n",
      "\n",
      "    fig1=plt.figure()\n",
      "    ax1=fig1.add_subplot(111)\n",
      "    ax1.set_xlabel(\"$x$\",fontsize=18)\n",
      "    ax1.set_ylabel(\"$\\psi(x), |\\psi(x)|^2$\",fontsize=18)\n",
      "    ax1.set_title('Real Space',fontsize=18) \n",
      "    ax1.plot(xpts, f(xpts) ,color='red', label='$\\psi$')\n",
      "    ax1.plot(xpts, h(xpts) ,color='green',label='$|\\psi|^2$')\n",
      "    ax1.annotate('$k0=$'+str(k0), xy=(.6, .6),  xycoords='axes fraction',fontsize=18)\n",
      "    ax1.set_ylim([-1,1])\n",
      "    ax1.legend()\n",
      "    plt.show()\n",
      "    display(Latex('$\\psi(x)='+str(latex(q))+'$'))\n",
      "\n",
      "    fig2=plt.figure(frameon=False)\n",
      "    ax2=fig2.add_subplot(111)\n",
      "    ax2.set_xlabel(\"$k$\",fontsize=18)\n",
      "    ax2.set_ylabel(\"$\\phi(k)$\",fontsize=18)\n",
      "    ax2.set_title('Fourier Space',fontsize=18) \n",
      "    ax2.plot(xpts,g(xpts))\n",
      "    ax2.annotate('$k0=$'+str(k0), xy=(k0/20+0.52, .6),  xycoords='axes fraction',fontsize=18)\n",
      "    ax2.set_ylim([-0.1,1])\n",
      "    plt.show()\n",
      "    display(Latex('$\\phi(k)='+str(latex(p))+'$'))\n",
      "    \n",
      "\n",
      "    \n",
      "    \n",
      "w=interactive(Gaussian,k0=(0,10,1))\n",
      "display(w)\n",
      "#display(qr)\n",
      "#s1=splt.plot(qr/a,(x,-5,15),line_color='red',fontsize=14)    # plot curve q(x)   \n",
      "#s2=splt.plot(pr,(k,-5,15),line_color='blue',fontsize=14)      # plot curve p(k)\n",
      "#s3=splt.plot(abs(q)^2/a,(x,-5,15),line_color='green',fontsize=14)"
     ],
     "language": "python",
     "metadata": {},
     "outputs": [
      {
       "metadata": {},
       "output_type": "display_data",
       "png": "[encoded data removed]",
       "text": [
        "<matplotlib.figure.Figure at 0x108464410>"
       ]
      },
      {
       "latex": [
        "$\\psi(x)=\\frac{e^{- \\frac{x^{2}}{2}}}{\\sqrt[4]{\\pi}} e^{5 i x}$"
       ],
       "metadata": {},
       "output_type": "display_data",
       "text": [
        "<IPython.core.display.Latex at 0x10880ff10>"
       ]
      },
      {
       "metadata": {},
       "output_type": "display_data",
       "png": "[encoded data removed]",
       "text": [
        "<matplotlib.figure.Figure at 0x108018dd0>"
       ]
      },
      {
       "latex": [
        "$\\phi(k)=\\frac{1}{\\sqrt[4]{\\pi}} e^{- \\frac{1}{2} \\left(k - 5\\right)^{2}}$"
       ],
       "metadata": {},
       "output_type": "display_data",
       "text": [
        "<IPython.core.display.Latex at 0x10884c4d0>"
       ]
      }
     ],
     "prompt_number": 2
    },
    {
     "cell_type": "code",
     "collapsed": false,
     "input": [
      "var('z,k ', real=True)\n",
      "var('t, w, k_0',real=True,positive=True)\n",
      "dx=1\n",
      "\n",
      "q=exp(-(x/dx)**2/4)*exp(I*k_0*x)     # Gaussian wave packet\n",
      "a=sqrt(integrate(exp(-(x/dx)**2/4)**2,(x,-oo,oo)))\n",
      "display(a)\n",
      "q=(q/a).simplify()\n",
      "display(q)\n",
      "#p=1/sqrt(2*pi)*integrate((q*exp(-I*x*k)).simplify(), (x,-oo,oo))   #Fourier transformation\n",
      "#p=1/sqrt(2*pi)*fourier_transform(q,x,k/2/pi)\n",
      "p=fourier_transform(q,x,k).simplify()\n",
      "#display(p)\n",
      "w=k*k/10\n",
      "#qt=Function('qt')(z,k_0,t)\n",
      "#qt=p*exp(I*(z*k-w*t))\n",
      "#qt=qt.simplify()\n",
      "#display(qt)\n",
      "#qt=(1/sqrt(2*pi)*integrate(qt,(k,-oo,oo))).simplify()\n",
      "#qt=1/sqrt(2*pi)*inverse_fourier_transform(p*exp(-I*w*t),k, x)\n",
      "qt=inverse_fourier_transform(p*exp(-I*w*t),k,x)\n",
      "\n",
      "display((qt))\n",
      "display(qt.as_real_imag()[0])\n",
      "\n",
      "###\n",
      "def WavePacket(k0,t0):\n",
      "    #qt=inverse_fourier_transform((p.subs(k_0,k0)*exp(-I*w*t0)),k,x)\n",
      "    #print type(qt)\n",
      "    \n",
      "    qr=q.subs([(k_0,k0)]).as_real_imag()[0]\n",
      "    qtr=qt.subs([(exp_polar, exp),(k_0,k0),(t,t0)]).as_real_imag()[0] # take the real part\n",
      "    \n",
      "    display(q)\n",
      "    display(qr)\n",
      "    display(qt)\n",
      "    print qt\n",
      "    display(qtr)\n",
      "    f=lambdify(x,qr,'numpy')\n",
      "    g=lambdify(x,qtr,'numpy')\n",
      "   \n",
      "    xpts=np.linspace(-10,10,1000)\n",
      "\n",
      "    fig1=plt.figure()\n",
      "    ax1=fig1.add_subplot(111)\n",
      "    ax1.set_xlabel(\"$x$\",fontsize=18)\n",
      "    ax1.set_ylabel(\"$\\psi(x,t)$\",fontsize=18)\n",
      "    ax1.set_title('Real Space',fontsize=18) \n",
      "    ax1.plot(xpts, f(xpts) ,color='red', label='$\\psi(x,0)$')\n",
      "    ax1.plot(xpts, g(xpts) ,color='green',label='$\\psi(x,t)$')\n",
      "    ax1.annotate('$t=$'+str(t0), xy=(.6, .6),  xycoords='axes fraction',fontsize=18)\n",
      "    #ax1.set_ylim([-1,1])\n",
      "    ax1.legend()\n",
      "    plt.show()\n",
      "    display(Latex('$\\psi(x,0)='+str(latex(qr))+'$'))\n",
      "    display(Latex('$\\psi(x,'+str(t0)+')='+str(latex(qtr))+'$'))\n",
      "###   \n",
      "    \n",
      "    \n",
      "g2=interactive(WavePacket,k0=(0,10,1), t0=(0,10,0.01))\n",
      "#g2=interactive(WavePacket,t0=(0,1,0.01))\n",
      "display(g2)\n",
      "\n",
      "\n",
      "\n",
      "\n",
      "\n",
      "\n",
      "\n"
     ],
     "language": "python",
     "metadata": {},
     "outputs": [
      {
       "latex": [
        "$$\\frac{2^{\\frac{3}{4}}}{2 \\sqrt[4]{\\pi}} e^{\\frac{x}{4} \\left(4 i k_{0} - x\\right)}$$"
       ],
       "metadata": {},
       "output_type": "display_data",
       "text": [
        "      x\u22c5(4\u22c5\u2148\u22c5k\u2080 - x)\n",
        "      \u2500\u2500\u2500\u2500\u2500\u2500\u2500\u2500\u2500\u2500\u2500\u2500\u2500\u2500\n",
        " 3/4        4       \n",
        "2   \u22c5\u212f              \n",
        "\u2500\u2500\u2500\u2500\u2500\u2500\u2500\u2500\u2500\u2500\u2500\u2500\u2500\u2500\u2500\u2500\u2500\u2500\u2500\u2500\n",
        "        4 ___       \n",
        "      2\u22c5\u2572\u2571 \u03c0        "
       ]
      },
      {
       "latex": [
        "$$\\frac{2^{\\frac{3}{4}} e^{- \\frac{x^{2}}{4}}}{2 \\sqrt[4]{\\pi}} \\cos{\\left (5 x \\right )}$$"
       ],
       "metadata": {},
       "output_type": "display_data",
       "text": [
        "        2          \n",
        "      -x           \n",
        "      \u2500\u2500\u2500\u2500         \n",
        " 3/4   4           \n",
        "2   \u22c5\u212f    \u22c5cos(5\u22c5x)\n",
        "\u2500\u2500\u2500\u2500\u2500\u2500\u2500\u2500\u2500\u2500\u2500\u2500\u2500\u2500\u2500\u2500\u2500\u2500\u2500\n",
        "        4 ___      \n",
        "      2\u22c5\u2572\u2571 \u03c0       "
       ]
      },
      {
       "latex": [
        "$$2 \\sqrt[4]{2} \\sqrt{5} \\pi^{\\frac{3}{4}} \\sqrt{- \\frac{1}{t - 40 \\pi^{2} e^{\\frac{i \\pi}{2}}}} e^{\\frac{i \\pi}{4}} e^{\\frac{1}{40 \\pi^{2}} \\left(i k_{0} \\left(- k_{0} t + 40 \\pi^{2} x\\right) - \\frac{\\left(k_{0} t - 20 \\pi^{2} x\\right)^{2}}{i t + 40 \\pi^{2}}\\right)}$$"
       ],
       "metadata": {},
       "output_type": "display_data",
       "text": [
        "                                                                                          2\n",
        "                                                                          \u239b           2  \u239e \n",
        "                                                      \u239b            2  \u239e   \u239dk\u2080\u22c5t - 20\u22c5\u03c0 \u22c5x\u23a0 \n",
        "                                                 \u2148\u22c5k\u2080\u22c5\u239d-k\u2080\u22c5t + 40\u22c5\u03c0 \u22c5x\u23a0 - \u2500\u2500\u2500\u2500\u2500\u2500\u2500\u2500\u2500\u2500\u2500\u2500\u2500\u2500\u2500\u2500\u2500\n",
        "                                                                                       2   \n",
        "                                                                             \u2148\u22c5t + 40\u22c5\u03c0    \n",
        "                                            \u2148\u22c5\u03c0  \u2500\u2500\u2500\u2500\u2500\u2500\u2500\u2500\u2500\u2500\u2500\u2500\u2500\u2500\u2500\u2500\u2500\u2500\u2500\u2500\u2500\u2500\u2500\u2500\u2500\u2500\u2500\u2500\u2500\u2500\u2500\u2500\u2500\u2500\u2500\u2500\u2500\u2500\u2500\u2500\u2500\u2500\n",
        "                          ________________  \u2500\u2500\u2500                        2                   \n",
        "  4 ___   ___  3/4       \u2571      -1           4                     40\u22c5\u03c0                    \n",
        "2\u22c5\u2572\u2571 2 \u22c5\u2572\u2571 5 \u22c5\u03c0   \u22c5     \u2571  \u2500\u2500\u2500\u2500\u2500\u2500\u2500\u2500\u2500\u2500\u2500\u2500\u2500\u2500 \u22c5\u212f   \u22c5\u212f                                          \n",
        "                       \u2571              \u2148\u22c5\u03c0                                                  \n",
        "                      \u2571               \u2500\u2500\u2500                                                  \n",
        "                     \u2571             2   2                                                   \n",
        "                   \u2572\u2571      t - 40\u22c5\u03c0 \u22c5\u212f                                                     "
       ]
      },
      {
       "output_type": "stream",
       "stream": "stdout",
       "text": [
        "2*2**(1/4)*sqrt(5)*pi**(3/4)*sqrt(-1/(t - 40*pi**2*exp_polar(I*pi/2)))*exp_polar(I*pi/4)*exp((I*k_0*(-k_0*t + 40*pi**2*x) - (k_0*t - 20*pi**2*x)**2/(I*t + 40*pi**2))/(40*pi**2))\n"
       ]
      },
      {
       "latex": [
        "$$2 \\sqrt[4]{2} \\sqrt{5} \\pi^{\\frac{3}{4}} \\Re {\\left (\\sqrt{- \\frac{1}{4.99 - 40 i \\pi^{2}}} e^{\\frac{i \\pi}{4}} e^{\\frac{1}{40 \\pi^{2}} \\left(- \\frac{\\left(- 20 \\pi^{2} x + 24.95\\right)^{2}}{40 \\pi^{2} + 4.99 i} + 5 i \\left(40 \\pi^{2} x - 24.95\\right)\\right)} \\right )}$$"
       ],
       "metadata": {},
       "output_type": "display_data",
       "text": [
        "                     \u239b                                                 2                        \u239e\n",
        "                     \u239c                              \u239b      2          \u239e                         \u239f\n",
        "                     \u239c                              \u239d- 20\u22c5\u03c0 \u22c5x + 24.95\u23a0        \u239b    2          \u239e\u239f\n",
        "                     \u239c                            - \u2500\u2500\u2500\u2500\u2500\u2500\u2500\u2500\u2500\u2500\u2500\u2500\u2500\u2500\u2500\u2500\u2500\u2500\u2500\u2500 + 5\u22c5\u2148\u22c5\u239d40\u22c5\u03c0 \u22c5x - 24.95\u23a0\u239f\n",
        "                     \u239c                                     2                                    \u239f\n",
        "                     \u239c                                 40\u22c5\u03c0  + 4.99\u22c5\u2148                           \u239f\n",
        "                     \u239c                       \u2148\u22c5\u03c0  \u2500\u2500\u2500\u2500\u2500\u2500\u2500\u2500\u2500\u2500\u2500\u2500\u2500\u2500\u2500\u2500\u2500\u2500\u2500\u2500\u2500\u2500\u2500\u2500\u2500\u2500\u2500\u2500\u2500\u2500\u2500\u2500\u2500\u2500\u2500\u2500\u2500\u2500\u2500\u2500\u2500\u2500\u2500\u2500\u2500\u2500\u239f\n",
        "                     \u239c     ________________  \u2500\u2500\u2500                          2                     \u239f\n",
        "  4 ___   ___  3/4   \u239c    \u2571      -1           4                       40\u22c5\u03c0                      \u239f\n",
        "2\u22c5\u2572\u2571 2 \u22c5\u2572\u2571 5 \u22c5\u03c0   \u22c5  \u239c   \u2571  \u2500\u2500\u2500\u2500\u2500\u2500\u2500\u2500\u2500\u2500\u2500\u2500\u2500\u2500 \u22c5\u212f   \u22c5\u212f                                              \u239f\n",
        "                     \u239c  \u2571                2                                                      \u239f\n",
        "                     \u239d\u2572\u2571    4.99 - 40\u22c5\u2148\u22c5\u03c0                                                       \u23a0\n",
        "                                                                                                 \n",
        "                                                                                                 \n",
        "                   re                                                                            "
       ]
      },
      {
       "metadata": {},
       "output_type": "display_data",
       "png": "[encoded data removed]",
       "text": [
        "<matplotlib.figure.Figure at 0x10d35c310>"
       ]
      },
      {
       "latex": [
        "$\\psi(x,0)=\\frac{2^{\\frac{3}{4}} e^{- \\frac{x^{2}}{4}}}{2 \\sqrt[4]{\\pi}} \\cos{\\left (5 x \\right )}$"
       ],
       "metadata": {},
       "output_type": "display_data",
       "text": [
        "<IPython.core.display.Latex at 0x10d4097d0>"
       ]
      },
      {
       "latex": [
        "$\\psi(x,4.99)=2 \\sqrt[4]{2} \\sqrt{5} \\pi^{\\frac{3}{4}} \\Re {\\left (\\sqrt{- \\frac{1}{4.99 - 40 i \\pi^{2}}} e^{\\frac{i \\pi}{4}} e^{\\frac{1}{40 \\pi^{2}} \\left(- \\frac{\\left(- 20 \\pi^{2} x + 24.95\\right)^{2}}{40 \\pi^{2} + 4.99 i} + 5 i \\left(40 \\pi^{2} x - 24.95\\right)\\right)} \\right )}$"
       ],
       "metadata": {},
       "output_type": "display_data",
       "text": [
        "<IPython.core.display.Latex at 0x10d4091d0>"
       ]
      }
     ],
     "prompt_number": 24
    },
    {
     "cell_type": "code",
     "collapsed": false,
     "input": [
      "z.assumptions0"
     ],
     "language": "python",
     "metadata": {},
     "outputs": [
      {
       "metadata": {},
       "output_type": "pyout",
       "prompt_number": 116,
       "text": [
        "{'commutative': True,\n",
        " 'complex': True,\n",
        " 'hermitian': True,\n",
        " 'imaginary': False,\n",
        " 'real': True}"
       ]
      }
     ]
    },
    {
     "cell_type": "code",
     "collapsed": false,
     "input": [
      "polar_lift?"
     ],
     "language": "python",
     "metadata": {},
     "outputs": [],
     "prompt_number": 75
    },
    {
     "cell_type": "code",
     "collapsed": false,
     "input": [
      "periodic_argument?"
     ],
     "language": "python",
     "metadata": {},
     "outputs": [],
     "prompt_number": 72
    },
    {
     "cell_type": "code",
     "collapsed": false,
     "input": [
      "principal_branch?"
     ],
     "language": "python",
     "metadata": {},
     "outputs": [],
     "prompt_number": 71
    },
    {
     "cell_type": "code",
     "collapsed": false,
     "input": [
      "Function?"
     ],
     "language": "python",
     "metadata": {},
     "outputs": [],
     "prompt_number": 77
    },
    {
     "cell_type": "code",
     "collapsed": false,
     "input": [
      "exp(I*pi/2)"
     ],
     "language": "python",
     "metadata": {},
     "outputs": [
      {
       "latex": [
        "$$i$$"
       ],
       "metadata": {},
       "output_type": "pyout",
       "prompt_number": 104,
       "text": [
        "\u2148"
       ]
      }
     ],
     "prompt_number": 104
    },
    {
     "cell_type": "code",
     "collapsed": false,
     "input": [
      "print qt.subs([(k_0,5),(t,1)]).as_real_imag()[0]"
     ],
     "language": "python",
     "metadata": {},
     "outputs": [
      {
       "output_type": "stream",
       "stream": "stdout",
       "text": [
        "2*2**(1/4)*sqrt(5)*pi**(3/4)*re(exp_polar(I*pi/4)*exp((-40*pi**4*x**2 + 400*I*pi**3*x - 25*I)/(40*pi**2 + I))/sqrt(-1 + 40*pi**2*exp_polar(I*pi/2)))\n"
       ]
      }
     ],
     "prompt_number": 13
    },
    {
     "cell_type": "code",
     "collapsed": false,
     "input": [
      "principal_branch(exp_polar(I*pi/2),2*pi)"
     ],
     "language": "python",
     "metadata": {},
     "outputs": [
      {
       "latex": [
        "$$e^{\\frac{i \\pi}{2}}$$"
       ],
       "metadata": {},
       "output_type": "pyout",
       "prompt_number": 17,
       "text": [
        " \u2148\u22c5\u03c0\n",
        " \u2500\u2500\u2500\n",
        "  2 \n",
        "\u212f   "
       ]
      }
     ],
     "prompt_number": 17
    },
    {
     "cell_type": "code",
     "collapsed": false,
     "input": [
      "exp(I*pi/2)"
     ],
     "language": "python",
     "metadata": {},
     "outputs": [
      {
       "latex": [
        "$$i$$"
       ],
       "metadata": {},
       "output_type": "pyout",
       "prompt_number": 18,
       "text": [
        "\u2148"
       ]
      }
     ],
     "prompt_number": 18
    },
    {
     "cell_type": "code",
     "collapsed": false,
     "input": [],
     "language": "python",
     "metadata": {},
     "outputs": []
    }
   ],
   "metadata": {}
  }
 ]
}