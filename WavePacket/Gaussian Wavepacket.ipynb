{
 "metadata": {
  "name": "",
  "signature": "sha256:ff3908dae900f07f377a14a30aadcf2e5eb51d054813f535cb5eee4a79e0ff24"
 },
 "nbformat": 3,
 "nbformat_minor": 0,
 "worksheets": [
  {
   "cells": [
    {
     "cell_type": "code",
     "collapsed": false,
     "input": [
      "#%pylab inline --no-import-all\n",
      "\n",
      "import numpy as np\n",
      "import matplotlib.pyplot as plt \n",
      "%matplotlib inline\n",
      "from sympy import *\n",
      "import sympy.plotting as splt\n",
      "#from sympy.utilities.lambdify import lambdify\n",
      "import scipy.special as sp \n",
      "from __future__ import division\n",
      "from IPython.display import display\n",
      "init_printing(use_unicode=True, wrap_line=False, no_global=True, use_latex='mathjax')\n",
      "var('x', real=True)\n",
      "var('k,dx',real=True,positive=True)  # define variables x, y, dx\n",
      "dx=sqrt(1/2)           # width in x-space\n",
      "q=Function(\"q\")(x)\n",
      "q=exp(-(x/dx)**2/4)     # Gaussian waveform\n",
      "a=sqrt(integrate(q**2,(x,-oo,oo)))      # normalization constant\n",
      "p=1/sqrt(2*pi)*integrate(q*exp(I*x*k)/a,(x,-oo,oo)).simplify()    #Fourier transformation\n",
      "display(q/a)\n",
      "display(p)\n",
      "s1=splt.plot(q/a,(x,-5,5), xlabel=\"$x$\", ylabel=\"$\\psi(x)$\", show=False,line_color='red', title='Real space')  # plot curve q(x)\n",
      "#s1[0].line_color='red'\n",
      "xpts=np.linspace(-5,5,100)\n",
      "#f=lambdify(x,q/a,'numpy')\n",
      "#lookup = {'erf':erf}  \n",
      "g=lambdify(x,p,['numpy'])\n",
      "g(3)\n",
      "#fig=plt.figure()\n",
      "#ax=fig.add_subplot(111)\n",
      "#ax.set_xlabel(\"$x$\",fontsize=18)\n",
      "#ax.set_ylabel(\"$\\psi(x)$\",fontsize=18)\n",
      "#ax.set_title('Real space',fontsize=18) \n",
      "#ax.plot(xpts, f(xpts) ,color='red')\n",
      "#ax.plot(xpts,g(xpts))\n",
      "\n",
      "s2=splt.plot(p,(k,-5,5),xlabel=\"$k$\", ylabel=\"$\\phi(k)$\", show=False, title='Fourier space')      # plot curve p(k)\n",
      "#s2.axes_labels=[\"$k$\",\"$\\phi(k)$\"]\n",
      "#plt.show()\n",
      "\n",
      "s1.show()\n",
      "s2.show()\n",
      "\n",
      "\n"
     ],
     "language": "python",
     "metadata": {},
     "outputs": [
      {
       "latex": [
        "$$\\frac{1.0}{\\sqrt[4]{\\pi}} e^{- 0.5 x^{2}}$$"
       ],
       "metadata": {},
       "output_type": "display_data",
       "text": [
        "           2\n",
        "     -0.5\u22c5x \n",
        "1.0\u22c5\u212f       \n",
        "\u2500\u2500\u2500\u2500\u2500\u2500\u2500\u2500\u2500\u2500\u2500\u2500\n",
        "   4 ___    \n",
        "   \u2572\u2571 \u03c0     "
       ]
      },
      {
       "latex": [
        "$$\\frac{0.707106781186548 \\sqrt{2}}{\\sqrt[4]{\\pi} e^{0.5 k^{2}}}$$"
       ],
       "metadata": {},
       "output_type": "display_data",
       "text": [
        "                               2\n",
        "                    ___  -0.5\u22c5k \n",
        "0.707106781186548\u22c5\u2572\u2571 2 \u22c5\u212f       \n",
        "\u2500\u2500\u2500\u2500\u2500\u2500\u2500\u2500\u2500\u2500\u2500\u2500\u2500\u2500\u2500\u2500\u2500\u2500\u2500\u2500\u2500\u2500\u2500\u2500\u2500\u2500\u2500\u2500\u2500\u2500\u2500\u2500\n",
        "             4 ___              \n",
        "             \u2572\u2571 \u03c0               "
       ]
      },
      {
       "ename": "AttributeError",
       "evalue": "'Mul' object has no attribute 'exp'",
       "output_type": "pyerr",
       "traceback": [
        "\u001b[0;31m---------------------------------------------------------------------------\u001b[0m\n\u001b[0;31mAttributeError\u001b[0m                            Traceback (most recent call last)",
        "\u001b[0;32m<ipython-input-12-e6a934e9a5af>\u001b[0m in \u001b[0;36m<module>\u001b[0;34m()\u001b[0m\n\u001b[1;32m     26\u001b[0m \u001b[0;31m#lookup = {'erf':erf}\u001b[0m\u001b[0;34m\u001b[0m\u001b[0;34m\u001b[0m\u001b[0m\n\u001b[1;32m     27\u001b[0m \u001b[0mg\u001b[0m\u001b[0;34m=\u001b[0m\u001b[0mlambdify\u001b[0m\u001b[0;34m(\u001b[0m\u001b[0mx\u001b[0m\u001b[0;34m,\u001b[0m\u001b[0mp\u001b[0m\u001b[0;34m,\u001b[0m\u001b[0;34m[\u001b[0m\u001b[0;34m'numpy'\u001b[0m\u001b[0;34m]\u001b[0m\u001b[0;34m)\u001b[0m\u001b[0;34m\u001b[0m\u001b[0m\n\u001b[0;32m---> 28\u001b[0;31m \u001b[0mg\u001b[0m\u001b[0;34m(\u001b[0m\u001b[0;36m3\u001b[0m\u001b[0;34m)\u001b[0m\u001b[0;34m\u001b[0m\u001b[0m\n\u001b[0m\u001b[1;32m     29\u001b[0m \u001b[0;31m#fig=plt.figure()\u001b[0m\u001b[0;34m\u001b[0m\u001b[0;34m\u001b[0m\u001b[0m\n\u001b[1;32m     30\u001b[0m \u001b[0;31m#ax=fig.add_subplot(111)\u001b[0m\u001b[0;34m\u001b[0m\u001b[0;34m\u001b[0m\u001b[0m\n",
        "\u001b[0;32m/Applications/anaconda/lib/python2.7/site-packages/numpy/__init__.pyc\u001b[0m in \u001b[0;36m<lambda>\u001b[0;34m(x)\u001b[0m\n",
        "\u001b[0;31mAttributeError\u001b[0m: 'Mul' object has no attribute 'exp'"
       ]
      }
     ],
     "prompt_number": 12
    },
    {
     "cell_type": "code",
     "collapsed": false,
     "input": [
      "var('k',real=True, postive=True)  # define  variables x, y, dx\n",
      "dx=sqrt(1/2)          # width in x-space\n",
      "k0=4         # plane wave k \n",
      "q=exp(-(x/dx)**2/1)*exp(I*k0*x)      # Gaussian wave packet\n",
      "a=sqrt(integrate(abs(q)**2,(x,-oo,oo)))     # normalization constant\n",
      "#assume(k>0)\n",
      "p=1/sqrt(2*pi)*integrate(q*exp(-I*x*k)/a,(x,-oo,oo))    #Fourier transformation\n",
      "\n",
      "qr=q.as_real_imag()[0] # take the real part\n",
      "pr=p.as_real_imag()[0] # take the real part\n",
      "\n",
      "display(qr)\n",
      "s1=splt.plot(qr/a,(x,-5,15),line_color='red',fontsize=14)    # plot curve q(x)   \n",
      "s2=splt.plot(pr,(k,-5,15),line_color='blue',fontsize=14)      # plot curve p(k)\n",
      "s3=splt.plot(abs(q)^2/a,(x,-5,15),line_color='green',fontsize=14)"
     ],
     "language": "python",
     "metadata": {},
     "outputs": []
    },
    {
     "cell_type": "code",
     "collapsed": false,
     "input": [
      "sp.erf?"
     ],
     "language": "python",
     "metadata": {},
     "outputs": [],
     "prompt_number": 6
    },
    {
     "cell_type": "code",
     "collapsed": false,
     "input": [
      "I?"
     ],
     "language": "python",
     "metadata": {},
     "outputs": [],
     "prompt_number": 14
    },
    {
     "cell_type": "code",
     "collapsed": false,
     "input": [
      "sqrt(-1)"
     ],
     "language": "python",
     "metadata": {},
     "outputs": [
      {
       "latex": [
        "$$i$$"
       ],
       "metadata": {},
       "output_type": "pyout",
       "prompt_number": 15,
       "text": [
        "\u2148"
       ]
      }
     ],
     "prompt_number": 15
    },
    {
     "cell_type": "code",
     "collapsed": false,
     "input": [
      "1/I"
     ],
     "language": "python",
     "metadata": {},
     "outputs": [
      {
       "latex": [
        "$$- i$$"
       ],
       "metadata": {},
       "output_type": "pyout",
       "prompt_number": 16,
       "text": [
        "-\u2148"
       ]
      }
     ],
     "prompt_number": 16
    },
    {
     "cell_type": "code",
     "collapsed": false,
     "input": [
      "x"
     ],
     "language": "python",
     "metadata": {},
     "outputs": [
      {
       "latex": [
        "$$x$$"
       ],
       "metadata": {},
       "output_type": "pyout",
       "prompt_number": 17,
       "text": [
        "x"
       ]
      }
     ],
     "prompt_number": 17
    },
    {
     "cell_type": "code",
     "collapsed": false,
     "input": [
      "type(x)"
     ],
     "language": "python",
     "metadata": {},
     "outputs": [
      {
       "metadata": {},
       "output_type": "pyout",
       "prompt_number": 18,
       "text": [
        "sympy.core.symbol.Symbol"
       ]
      }
     ],
     "prompt_number": 18
    },
    {
     "cell_type": "code",
     "collapsed": false,
     "input": [
      "integrate((q*exp(I*x*k)/a),(x,-oo, oo)).simplify()"
     ],
     "language": "python",
     "metadata": {},
     "outputs": [
      {
       "latex": [
        "$$\\frac{1.4142135623731 \\sqrt[4]{\\pi}}{e^{0.5 k^{2}}}$$"
       ],
       "metadata": {},
       "output_type": "pyout",
       "prompt_number": 25,
       "text": [
        "                             2\n",
        "                4 ___  -0.5\u22c5k \n",
        "1.4142135623731\u22c5\u2572\u2571 \u03c0 \u22c5\u212f       "
       ]
      }
     ],
     "prompt_number": 25
    },
    {
     "cell_type": "code",
     "collapsed": false,
     "input": [
      "integrate?"
     ],
     "language": "python",
     "metadata": {},
     "outputs": [],
     "prompt_number": 21
    },
    {
     "cell_type": "code",
     "collapsed": false,
     "input": [],
     "language": "python",
     "metadata": {},
     "outputs": []
    }
   ],
   "metadata": {}
  }
 ]
}