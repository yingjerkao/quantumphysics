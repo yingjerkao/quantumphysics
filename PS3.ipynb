{
 "metadata": {
  "name": "",
  "signature": "sha256:22a161d0eeddf071b721eec2c9321ee6593b3066052f97180c4c0e682b49b704"
 },
 "nbformat": 3,
 "nbformat_minor": 0,
 "worksheets": [
  {
   "cells": [
    {
     "cell_type": "code",
     "collapsed": false,
     "input": [
      "# Numerically solve u\"(x)-(x**2+x**4-K)*u(x)=0\n",
      "\n",
      "import numpy as np\n",
      "from scipy.integrate import odeint\n",
      "import matplotlib.pyplot as plt \n",
      "%matplotlib inline\n",
      "from IPython.html.widgets import interact, interactive\n",
      "from IPython.html import widgets\n",
      "from IPython.display import display, Math, Latex\n",
      "from __future__ import division\n",
      "from sympy import *\n",
      "import sympy.plotting as splt\n",
      "import matplotlib.pyplot as plt\n",
      "\n",
      "init_printing(use_latex='mathjax')\n",
      "\n",
      "# Python does not have the nice NDSolve command as in Mathematica, but we can still do it\n",
      "# First, split the 2nd-order ODE into two coupled first-order ODEs\n",
      "# y0'=y1 \n",
      "# y1'=(x**2+x**4-K)*y0\n",
      "# declare symbols\n",
      "\n",
      "\n",
      "# specify the x points where we want the solution\n",
      "x_pts=np.linspace(0,5,1000) # generates a series from 0 to 5(not included) with step size 0.01\n",
      "\n",
      "# enter interactive session\n",
      "\n",
      "def plot_sol(K):\n",
      "    K=float(K)\n",
      "    # define the RHS of the two ODEs and store as a vector\n",
      "    def f(y,x):\n",
      "        return [y[1],(x**2-K)*y[0]]\n",
      "    \n",
      "    # initial conditions for [y0(0),y1(0)]\n",
      "    ics=[1,0]\n",
      "    \n",
      "    # solve the coupled ODEs numerically\n",
      "    sol=odeint(f,ics,x_pts)\n",
      "  \n",
      "    # plot the solution\n",
      "    fig=plt.figure(figsize=(12,8))\n",
      "    ax=fig.add_subplot(111)\n",
      "    ax.set_xlabel(\"$x$\",fontsize=18)\n",
      "    ax.set_ylabel(\"$\\psi(x)$\",fontsize=18)\n",
      "    ax.set_title('Numeircal Solution',fontsize=18) \n",
      "    ax.set_ylim([-1,2])\n",
      "    ax.plot(x_pts,sol[:,0],lw=2,color='g')\n",
      "    ax.axhline(linewidth=1, color='blue')\n",
      "\n",
      "    plt.show()\n",
      "\n",
      "    \n",
      "i=interact(plot_sol,K='0.1')"
     ],
     "language": "python",
     "metadata": {},
     "outputs": []
    },
    {
     "cell_type": "code",
     "collapsed": false,
     "input": [],
     "language": "python",
     "metadata": {},
     "outputs": []
    }
   ],
   "metadata": {}
  }
 ]
}