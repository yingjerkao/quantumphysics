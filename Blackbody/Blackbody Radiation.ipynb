{
 "metadata": {
  "name": "",
  "signature": "sha256:fbe6da6f3c85d397cd9eddaea74ff8e77144340afc33ab81b3dc6ab6195365b2"
 },
 "nbformat": 3,
 "nbformat_minor": 0,
 "worksheets": [
  {
   "cells": [
    {
     "cell_type": "markdown",
     "metadata": {},
     "source": [
      "# Blackbody Radiation\n",
      "\n",
      "### Thermal Radiation\n",
      "\n",
      "The radiation emitted by a body as a result of its temperature is called **thermal radiation**. All bodies emit such radiation to their surroundings and absorb such radiation from them.  When thermal equilibrium is reached, the emission and absoption rates are equal.\n",
      "\n",
      "The frequency spectrum and the temperature of a body is related. \n",
      "\n",
      "<img src='Figures/Iron_Poke.png' />  "
     ]
    },
    {
     "cell_type": "markdown",
     "metadata": {},
     "source": [
      "### Blackbody \n",
      "\n",
      "A **blackbody** is an idealized object that absorbs all electromagnetic radiation that falls on it. \n",
      "<img src='http://upload.wikimedia.org/wikipedia/commons/0/08/Black-body_realization.png'/>\n",
      "\"<a href=\"http://commons.wikimedia.org/wiki/File:Black-body_realization.png#mediaviewer/File:Black-body_realization.png\">Black-body realization</a>\" by <a href=\"//commons.wikimedia.org/wiki/User:Brews_ohare\" title=\"User:Brews ohare\">Brews ohare</a> - <span class=\"int-own-work\">Own work</span>. Licensed under <a href=\"http://creativecommons.org/licenses/by-sa/3.0\" title=\"Creative Commons Attribution-Share Alike 3.0\">CC BY-SA 3.0</a> via <a href=\"//commons.wikimedia.org/wiki/\">Wikimedia Commons</a>.\n",
      "\n",
      "\n",
      "Independent of the details of their composition, it is found that all black- bodies at the same temperature emit thermal radiation with the same spectrum.  \n",
      "\n",
      "<img src='http://upload.wikimedia.org/wikipedia/commons/1/19/Black_body.svg' \\>\n",
      "\"<a href=\"http://commons.wikimedia.org/wiki/File:Black_body.svg#mediaviewer/File:Black_body.svg\">Black body</a>\" by <a href=\"//commons.wikimedia.org/wiki/User:Darth_Kule\" title=\"User:Darth Kule\">Darth Kule</a> - <span class=\"int-own-work\">Own work</span>. Licensed under Public domain via <a href=\"//commons.wikimedia.org/wiki/\">Wikimedia Commons</a>.\n",
      "<img src='Figures/Blackbody_Spectrum.png'  /> \n",
      "\n"
     ]
    },
    {
     "cell_type": "code",
     "collapsed": false,
     "input": [
      "%pylab inline --no-import-all\n",
      "from sympy import *\n",
      "from IPython.display import Image, display\n"
     ],
     "language": "python",
     "metadata": {},
     "outputs": [
      {
       "output_type": "stream",
       "stream": "stdout",
       "text": [
        "Populating the interactive namespace from numpy and matplotlib\n"
       ]
      }
     ],
     "prompt_number": 10
    },
    {
     "cell_type": "code",
     "collapsed": false,
     "input": [
      "var('v,c,k')\n",
      "c=1\n",
      "k=1\n",
      "def u(T):\n",
      "    return 8*pi*v**2/c**3 * k*T\n",
      "\n",
      "plot(u(100),(v,0,1000))"
     ],
     "language": "python",
     "metadata": {},
     "outputs": [
      {
       "metadata": {},
       "output_type": "display_data",
       "png": "[encoded data removed]",
       "text": [
        "<matplotlib.figure.Figure at 0x106d1f290>"
       ]
      },
      {
       "metadata": {},
       "output_type": "pyout",
       "prompt_number": 16,
       "text": [
        "<sympy.plotting.plot.Plot at 0x106d1ffd0>"
       ]
      }
     ],
     "prompt_number": 16
    },
    {
     "cell_type": "code",
     "collapsed": false,
     "input": [],
     "language": "python",
     "metadata": {},
     "outputs": [],
     "prompt_number": 4
    },
    {
     "cell_type": "code",
     "collapsed": false,
     "input": [],
     "language": "python",
     "metadata": {},
     "outputs": [],
     "prompt_number": 2
    },
    {
     "cell_type": "code",
     "collapsed": false,
     "input": [],
     "language": "python",
     "metadata": {},
     "outputs": []
    }
   ],
   "metadata": {}
  }
 ]
}