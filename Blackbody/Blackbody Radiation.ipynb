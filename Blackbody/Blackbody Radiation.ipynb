{
 "metadata": {
  "name": "",
  "signature": "sha256:697081acb34f4f9850b73f239fcc4fd081cbde96402c0198d8471d7fcdd46e89"
 },
 "nbformat": 3,
 "nbformat_minor": 0,
 "worksheets": [
  {
   "cells": [
    {
     "cell_type": "markdown",
     "metadata": {},
     "source": [
      "# Blackbody Radiation\n",
      "\n",
      "### Thermal Radiation\n",
      "\n",
      "The radiation emitted by a body as a result of its temperature is called **thermal radiation**. All bodies emit such radiation to their surroundings and absorb such radiation from them.  When thermal equilibrium is reached, the emission and absoption rates are equal.\n",
      "\n",
      "The frequency spectrum and the temperature of a body is related. Consider, for example, heating an iron poker to higher and higher temperatures in a fire.\n",
      "When the poker is still at a relatively low temperature it radiates heat, but it is not visibly hot. With increasing temperature the amount of radiation that the poker emits increases very rapidly and visible effects are noted. The poker assumes a dull red color, then a bright red color, and, at very high temperatures, an intense blue-white color\n",
      "\n",
      "<img src='Figures/Iron_Poke.png' />  \n",
      "\n"
     ]
    },
    {
     "cell_type": "markdown",
     "metadata": {},
     "source": [
      "### Blackbody \n",
      "\n",
      "- A **blackbody** is an idealized object that absorbs all electromagnetic radiation that falls on it. \n",
      "- No electromagnetic radiation passes through it and none is reflected. \n",
      "\n",
      "- **Perfect absorber = Perfect emitter. **\n",
      "\n",
      "- It emits a temperature-dependent spectrum of light. \n",
      "\n",
      "- Cavity with a small hole \n",
      "\n",
      "![Blackbody](http://upload.wikimedia.org/wikipedia/commons/0/08/Black-body_realization.png) \"<a href=\"http://commons.wikimedia.org/wiki/File:Black-body_realization.png#mediaviewer/File:Black-body_realization.png\">Black-body realization</a>\" by <a href=\"//commons.wikimedia.org/wiki/User:Brews_ohare\" title=\"User:Brews ohare\">Brews ohare</a> - <span class=\"int-own-work\">Own work</span>. Licensed under <a href=\"http://creativecommons.org/licenses/by-sa/3.0\" title=\"Creative Commons Attribution-Share Alike 3.0\">CC BY-SA 3.0</a> via <a href=\"//commons.wikimedia.org/wiki/\">Wikimedia Commons</a>.\n",
      "\n",
      "\n",
      "Independent of the details of their composition, it is found that all black- bodies at the same temperature emit thermal radiation with the same spectrum.  The spectral distribution of blackbody radiation is specified by the quantity $R_T(\\nu)$, called the *spectral radiancy*, which is defined so that $R_T(d\\nu) d\\nu$ is equal to the energy emitted per unit time in radiation of frequency in the interval $\\nu$ to $\\nu + d\\nu$ from a unit area of the surface at absolute temperature $T$. \n",
      "\n",
      "![Blackbody Spectrum](http://upload.wikimedia.org/wikipedia/commons/1/19/Black_body.svg)\n",
      "\"<a href=\"http://commons.wikimedia.org/wiki/File:Black_body.svg#mediaviewer/File:Black_body.svg\">Black body</a>\" by <a href=\"//commons.wikimedia.org/wiki/User:Darth_Kule\" title=\"User:Darth Kule\">Darth Kule</a> - <span class=\"int-own-work\">Own work</span>. Licensed under Public domain via <a href=\"//commons.wikimedia.org/wiki/\">Wikimedia Commons</a>.\n",
      "\n",
      "\n",
      "You can try out this simulation:\n",
      "[Phet Simulation of Blackbody Spectrum ](http://phet.colorado.edu/sims/blackbody-spectrum/blackbody-spectrum_en.html)"
     ]
    },
    {
     "cell_type": "markdown",
     "metadata": {},
     "source": [
      "### Stefan's law \n",
      "The integral of the spectral radiancy $R_T(\\nu)$ over all $\\nu$ is the total energy emitted per unit time per unit area from a blackbody at temperature $T$. It is called the radiancy $R_T$. \n",
      "\n",
      "\\begin{equation}\n",
      "\\int_0^\\infty\\ d\\nu R_T(\\nu)=\\sigma T^4, \n",
      "\\end{equation}\n",
      "\n",
      "where $\\sigma=5.67\\times 10^{-8}$ W m$^{-2}$K$^{-4}$ is called the *Stefan-Boltzmann constant*. "
     ]
    },
    {
     "cell_type": "markdown",
     "metadata": {},
     "source": [
      "### Wien's law\n",
      "\n",
      "The wavelength of the peak of the emission of a black body and its temperature is related by the **Wien's (displacement) law**:\n",
      "\n",
      "\\begin{equation}\n",
      "\\lambda_{\\rm max} T= b,\n",
      "\\end{equation}\n",
      "\n",
      "where  $b=2.8977685(51)\\times 10^{\u22123}$m$\\cdot$K is  Wien's displacement constant\n",
      "\n",
      "<img src=\"Figures/Blackbody_Spectrum.png\" width=600>"
     ]
    },
    {
     "cell_type": "markdown",
     "metadata": {},
     "source": [
      "###Kirchhoff's law for radiation\n",
      "Assume we have two small opaque bodies a large distance from one another supported by fine threads in a large evacuated enclosure whose walls are opaque and kept at a constant temperature. In such a case the bodies and walls can exchange energy only by means of *radiation*. Let $e$ represent the rate of emission of radiant energy by a body and let $a$ represent the rate of absorption of radiant energy by a body. \n",
      "The Kirchhoff's law for radiation states\n",
      "\n",
      "\\begin{equation}\n",
      "\\frac{e_1}{a_1}=\\frac{e_2}{a_2}=1.\n",
      "\\end{equation}"
     ]
    },
    {
     "cell_type": "markdown",
     "metadata": {},
     "source": [
      "### Spectral Radiancy and Radiation energy density\n",
      "\n",
      "The radiation energy per unit volume between frequency $\\nu$ and $\\nu+d\\nu$ at temperature $T$ is given by $u(\\nu, T)$ and it is related to the spectral radiancy $R_T(\\nu, T)$, the energy emitted per unit time in frequency between $\\nu$ to $\\nu + d\\nu$ from a unit surface area  at temperature $T$, by  \n",
      "\\begin{equation}\n",
      "R_T(\\nu,T) = \\frac{c}{4}u(\\nu, T).\n",
      "\\end{equation}\n",
      "### Rayleigh-Jeans formula\n",
      "\n",
      "\\begin{equation}\n",
      "u(\\nu,T)=\\frac{8\\pi\\nu^2}{c^3}k_BT\n",
      "\\end{equation}\n",
      "\n",
      "### Wien's formula\n",
      "\n",
      "\\begin{equation}\n",
      "u(\\nu,T)=\\frac{8\\pi\\nu^2}{c^3}h\\nu e^{-h\\nu/k_BT}\n",
      "\\end{equation}\n",
      "\n",
      "### Planck's formula\n",
      "\n",
      "\\begin{equation}\n",
      "u(\\nu,T)=\\frac{8\\pi\\nu^2}{c^3}\\frac{h\\nu}{e^{h\\nu/k_BT}-1}\n",
      "\\end{equation}\n",
      "\n",
      "Rayleigh-Jeans formula is the classical limit of the Planck formula at $h\\nu/k_BT\\ll 1$.  Sereis expansion of the expoential function gives\n",
      "\\begin{equation}\n",
      "{e^{h\\nu/k_BT}-1}\\approx\\frac{h\\nu}{k_BT}, \n",
      "\\end{equation}\n",
      "and we obtain the Rayleigh-Jeans formula,\n",
      "\\begin{equation}\n",
      "u(\\nu,T)=\\frac{8\\pi\\nu^2}{c^3}(h\\nu)\\frac{k_BT}{h\\nu}=\\frac{8\\pi\\nu^2}{c^3}k_BT\n",
      "\\end{equation}\n",
      "\n",
      "Wien's formula, on the other hand, can be obtain in the high frequency limit $h\\nu/k_BT\\gg 1$: \n",
      "\\begin{equation}\n",
      "\\frac{h\\nu}{e^{h\\nu/k_BT}-1}\\approx {h\\nu}e^{-k_BT}, \n",
      "\\end{equation}\n",
      "and we obtain Wien's formula.\n"
     ]
    },
    {
     "cell_type": "code",
     "collapsed": false,
     "input": [
      "from sympy import *\n",
      "from sympy.abc import nu\n",
      "import sympy.plotting as splt\n",
      "import matplotlib.pyplot as plt\n",
      "from IPython.html.widgets import interactive\n",
      "from IPython.html import widgets\n",
      "\n",
      "import numpy as np\n",
      "%matplotlib inline \n",
      "init_printing(use_latex='mathjax')\n",
      "from IPython.display import Image, display,Latex\n",
      "\n",
      "\n",
      "var('h,c,k,T, x')\n",
      "\n",
      "c=299792458 # Speed of light\n",
      "k=1.3806488*10**(-23) # Boltzmann constant\n",
      "h=6.62606957*10**(-34) #Planck constant\n",
      "\n",
      "def Wien(nu,T):\n",
      "    ### Wien formula ###\n",
      "    return 8*pi*nu**3/c**3* h*exp(-h*nu/k/T)\n",
      "\n",
      "def RJ(nu,T):\n",
      "    ### Rayleigh-Jeans formula ###\n",
      "    return 8*pi*nu**2/c**3 * k*T\n",
      "\n",
      "def Planck(nu,T):\n",
      "    ### Planck formula ###\n",
      "    return 8*pi*nu**3/c**3* h/(exp(h*nu/k/T)-1)\n",
      "\n",
      "x = np.linspace(0.01,8e14,100)\n",
      "\n",
      "def Blackbody_Spectrum(T=1000):\n",
      "    fig = plt.figure()\n",
      "    \n",
      "    ax = fig.add_subplot(111)\n",
      "    ax.set_xlabel('$\\\\nu$',fontsize=24)\n",
      "    ax.set_ylabel('$u(\\\\nu, T\\ )$',fontsize=24)\n",
      "\n",
      "    ax.plot(x,[Wien(nu,T) for nu in x],color='green',label='Wien')\n",
      "    ax.plot(x,[RJ(nu,T) for nu in x],color='red',label='R-J')\n",
      "    planck_data=[Planck(nu,T) for nu in x]\n",
      "    ax.plot(x,planck_data,label='Planck')\n",
      "    \n",
      "    ax.tick_params(axis='both', which='major', labelsize=18)\n",
      "    ax.tick_params(axis='both', which='minor', labelsize=16)\n",
      "    ax.legend()\n",
      "    ax.annotate('$T=$'+str(T)+'K', xy=(.6, .5),  xycoords='axes fraction',fontsize=18)\n",
      "    #ylim=1.5*float(max(planck_data))\n",
      "    ylim=5e-16\n",
      "    ax.set_ylim([0, float(ylim)])\n",
      "   \n",
      "    plt.show()\n",
      "    \n",
      "w=interactive(Blackbody_Spectrum,T=(1000,3500,100))\n",
      "display(w)\n",
      "\n"
     ],
     "language": "python",
     "metadata": {},
     "outputs": [
      {
       "metadata": {},
       "output_type": "display_data",
       "png": "[encoded data removed]",
       "text": [
        "<matplotlib.figure.Figure at 0x10f53b310>"
       ]
      }
     ],
     "prompt_number": 1
    },
    {
     "cell_type": "code",
     "collapsed": false,
     "input": [],
     "language": "python",
     "metadata": {},
     "outputs": []
    }
   ],
   "metadata": {}
  }
 ]
}