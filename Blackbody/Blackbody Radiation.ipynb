{
 "metadata": {
  "name": "",
  "signature": "sha256:d08a38ee667586de46d19f87b66d911c468187275dffbbffe3f6a9c561d9efe4"
 },
 "nbformat": 3,
 "nbformat_minor": 0,
 "worksheets": [
  {
   "cells": [
    {
     "cell_type": "markdown",
     "metadata": {},
     "source": [
      "# Blackbody Radiation\n",
      "\n",
      "### Thermal Radiation\n",
      "\n",
      "The radiation emitted by a body as a result of its temperature is called **thermal radiation**. All bodies emit such radiation to their surroundings and absorb such radiation from them.  When thermal equilibrium is reached, the emission and absoption rates are equal.\n",
      "\n",
      "The frequency spectrum and the temperature of a body is related. Consider, for example, heating an iron poker to higher and higher temperatures in a fire.\n",
      "When the poker is still at a relatively low temperature it radiates heat, but it is not visibly hot. With increasing temperature the amount of radiation that the poker emits increases very rapidly and visible effects are noted. The poker assumes a dull red color, then a bright red color, and, at very high temperatures, an intense blue-white color\n",
      "\n",
      "<img src='Figures/Iron_Poke.png' />  \n",
      "\n"
     ]
    },
    {
     "cell_type": "markdown",
     "metadata": {},
     "source": [
      "### Blackbody \n",
      "\n",
      "- A **blackbody** is an idealized object that absorbs all electromagnetic radiation that falls on it. \n",
      "- No electromagnetic radiation passes through it and none is reflected. \n",
      "\n",
      "- **Perfect absorber = Perfect emitter. **\n",
      "\n",
      "- It emits a temperature-dependent spectrum of light. \n",
      "\n",
      "- Cavity with a small hole \n",
      "\n",
      "![Blackbody](http://upload.wikimedia.org/wikipedia/commons/0/08/Black-body_realization.png) \"<a href=\"http://commons.wikimedia.org/wiki/File:Black-body_realization.png#mediaviewer/File:Black-body_realization.png\">Black-body realization</a>\" by <a href=\"//commons.wikimedia.org/wiki/User:Brews_ohare\" title=\"User:Brews ohare\">Brews ohare</a> - <span class=\"int-own-work\">Own work</span>. Licensed under <a href=\"http://creativecommons.org/licenses/by-sa/3.0\" title=\"Creative Commons Attribution-Share Alike 3.0\">CC BY-SA 3.0</a> via <a href=\"//commons.wikimedia.org/wiki/\">Wikimedia Commons</a>.\n",
      "\n",
      "\n",
      "Independent of the details of their composition, it is found that all black- bodies at the same temperature emit thermal radiation with the same spectrum.  The spectral distribution of blackbody radiation is specified by the quantity $R_T(\\nu)$, called the *spectral radiancy*, which is defined so that $R_T(d\\nu) d\\nu$ is equal to the energy emitted per unit time in radiation of frequency in the interval $\\nu$ to $\\nu + d\\nu$ from a unit area of the surface at absolute temperature $T$. \n",
      "\n",
      "![Blackbody Spectrum](http://upload.wikimedia.org/wikipedia/commons/1/19/Black_body.svg)\n",
      "\"<a href=\"http://commons.wikimedia.org/wiki/File:Black_body.svg#mediaviewer/File:Black_body.svg\">Black body</a>\" by <a href=\"//commons.wikimedia.org/wiki/User:Darth_Kule\" title=\"User:Darth Kule\">Darth Kule</a> - <span class=\"int-own-work\">Own work</span>. Licensed under Public domain via <a href=\"//commons.wikimedia.org/wiki/\">Wikimedia Commons</a>.\n",
      "\n",
      "\n",
      "[Phet Simulation of Blackbody Spectrum ](http://phet.colorado.edu/sims/blackbody-spectrum/blackbody-spectrum_en.html)"
     ]
    },
    {
     "cell_type": "markdown",
     "metadata": {},
     "source": [
      "### Stefan's law \n",
      "The integral of the spectral radiancy $R_T(\\nu)$ over all $\\nu$ is the total energy emitted per unit time per unit area from a blackbody at temperature $T$. It is called the radiancy $R_T$. \n",
      "\n",
      "\\begin{equation}\n",
      "\\int_0^\\infty\\ d\\nu R_T(\\nu)=\\sigma T^4, \n",
      "\\end{equation}\n",
      "\n",
      "where $\\sigma=5.67\\times 10^{-8}$ W m$^{-2}$K$^{-4}$ is called the *Stefan-Boltzmann constant*. "
     ]
    },
    {
     "cell_type": "markdown",
     "metadata": {},
     "source": [
      "### Wien's law\n",
      "\n",
      "The wavelength of the peak of the emission of a black body and its temperature is related by the **Wien's (displacement) law**:\n",
      "\n",
      "\\begin{equation}\n",
      "\\lambda_{\\rm max} T= b,\n",
      "\\end{equation}\n",
      "\n",
      "where  $b=2.8977685(51)\\times 10^{\u22123}$mK is  Wien's displacement constant\n",
      "\n",
      "![Blackbody Spectrum](Figures/Blackbody_Spectrum.png)"
     ]
    },
    {
     "cell_type": "markdown",
     "metadata": {},
     "source": [
      "###Kirchhoff's law for radiation\n",
      "Assume we have two small opaque bodies a large distance from one another supported by fine threads in a large evacuated enclosure whose walls are opaque and kept at a constant temperature. In such a case the bodies and walls can exchange energy only by means of *radiation*. Let $e$ represent the rate of emission of radiant energy by a body and let $a$ represent the rate of absorption of radiant energy by a body. \n",
      "The Kirchhoff's law for radiation states\n",
      "\n",
      "\\begin{equation}\n",
      "\\frac{e_1}{a_1}=\\frac{e_2}{a_2}=1.\n",
      "\\end{equation}"
     ]
    },
    {
     "cell_type": "markdown",
     "metadata": {},
     "source": [
      "### Rayleigh-Jeans formula\n"
     ]
    },
    {
     "cell_type": "code",
     "collapsed": false,
     "input": [
      "%pylab inline --no-import-all\n",
      "from sympy import *\n",
      "from IPython.display import Image, display\n"
     ],
     "language": "python",
     "metadata": {},
     "outputs": [
      {
       "output_type": "stream",
       "stream": "stdout",
       "text": [
        "Populating the interactive namespace from numpy and matplotlib\n"
       ]
      }
     ],
     "prompt_number": 2
    },
    {
     "cell_type": "code",
     "collapsed": false,
     "input": [
      "var('v,c,k')\n",
      "c=1\n",
      "k=1\n",
      "def u(T):\n",
      "    return 8*pi*v**2/c**3 * k*T\n",
      "\n",
      "plot(u(100),(v,0,100))"
     ],
     "language": "python",
     "metadata": {},
     "outputs": [
      {
       "metadata": {},
       "output_type": "display_data",
       "png": "[encoded data removed]",
       "text": [
        "<matplotlib.figure.Figure at 0x10854c2d0>"
       ]
      },
      {
       "metadata": {},
       "output_type": "pyout",
       "prompt_number": 3,
       "text": [
        "<sympy.plotting.plot.Plot at 0x10854c5d0>"
       ]
      }
     ],
     "prompt_number": 3
    },
    {
     "cell_type": "code",
     "collapsed": false,
     "input": [],
     "language": "python",
     "metadata": {},
     "outputs": [],
     "prompt_number": 4
    },
    {
     "cell_type": "code",
     "collapsed": false,
     "input": [],
     "language": "python",
     "metadata": {},
     "outputs": [],
     "prompt_number": 2
    },
    {
     "cell_type": "code",
     "collapsed": false,
     "input": [],
     "language": "python",
     "metadata": {},
     "outputs": []
    }
   ],
   "metadata": {}
  }
 ]
}