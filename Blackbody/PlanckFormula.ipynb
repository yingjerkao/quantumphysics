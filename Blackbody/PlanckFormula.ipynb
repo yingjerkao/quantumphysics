{
 "metadata": {
  "name": "",
  "signature": "sha256:e4b77c26d00cfa8278ce35cb56c60793916c798dde5f72ec88d2167ea7daf8d5"
 },
 "nbformat": 3,
 "nbformat_minor": 0,
 "worksheets": [
  {
   "cells": [
    {
     "cell_type": "code",
     "collapsed": false,
     "input": [
      "from sympy import *\n",
      "from sympy.abc import nu, c, h,k, T,x\n",
      "import sympy.plotting as splt\n",
      "import matplotlib.pyplot as plt\n",
      "from IPython.html.widgets import interactive\n",
      "from IPython.html import widgets\n",
      "\n",
      "import numpy as np\n",
      "%matplotlib inline \n",
      "init_printing(use_latex='mathjax')\n",
      "from IPython.display import Image, display,Latex\n",
      "\n",
      "u = Function(\"u\")(nu, T)\n",
      "u=8*pi*nu**3/c**3* h/(exp(h*nu/k/T)-1)\n",
      "\n",
      "u_dls1=u.subs(h*nu/k/T, x).subs(nu, x*k*T/h)\n",
      "u_dls2=u.subs(exp(h*nu/k/T)-1, exp(h*nu/k/T))\n",
      "display(Latex('$u(\\\\nu,T)='+str(latex(u_dls1.as_leading_term(x).subs(x,h*nu/k/T)))+'$'))\n",
      "display(Latex('$u(\\\\nu,T)='+str(latex(u_dls2.subs(x,h*nu/k/T)))+'$'))\n",
      "\n",
      "#display(u_dls2)"
     ],
     "language": "python",
     "metadata": {},
     "outputs": [
      {
       "latex": [
        "$u(\\nu,T)=\\frac{8 \\pi}{c^{3}} T k \\nu^{2}$"
       ],
       "metadata": {},
       "output_type": "display_data",
       "text": [
        "<IPython.core.display.Latex at 0x104592950>"
       ]
      },
      {
       "latex": [
        "$u(\\nu,T)=\\frac{8 \\pi}{c^{3}} h \\nu^{3} e^{- \\frac{h \\nu}{T k}}$"
       ],
       "metadata": {},
       "output_type": "display_data",
       "text": [
        "<IPython.core.display.Latex at 0x106d6ae10>"
       ]
      }
     ],
     "prompt_number": 3
    },
    {
     "cell_type": "code",
     "collapsed": false,
     "input": [
      "u"
     ],
     "language": "python",
     "metadata": {},
     "outputs": [
      {
       "latex": [
        "$$\\frac{8 \\pi h \\nu^{3}}{c^{3} \\left(e^{\\frac{h \\nu}{T k}} - 1\\right)}$$"
       ],
       "metadata": {},
       "output_type": "pyout",
       "prompt_number": 4,
       "text": [
        "          3  \n",
        "   8\u22c5\u03c0\u22c5h\u22c5\u03bd   \n",
        "\u2500\u2500\u2500\u2500\u2500\u2500\u2500\u2500\u2500\u2500\u2500\u2500\u2500\n",
        "   \u239b h\u22c5\u03bd    \u239e\n",
        "   \u239c \u2500\u2500\u2500    \u239f\n",
        " 3 \u239c T\u22c5k    \u239f\n",
        "c \u22c5\u239d\u212f    - 1\u23a0"
       ]
      }
     ],
     "prompt_number": 4
    },
    {
     "cell_type": "code",
     "collapsed": false,
     "input": [
      "type(u)"
     ],
     "language": "python",
     "metadata": {},
     "outputs": [
      {
       "metadata": {},
       "output_type": "pyout",
       "prompt_number": 5,
       "text": [
        "sympy.core.mul.Mul"
       ]
      }
     ],
     "prompt_number": 5
    },
    {
     "cell_type": "code",
     "collapsed": false,
     "input": [
      "type(u)"
     ],
     "language": "python",
     "metadata": {},
     "outputs": [
      {
       "metadata": {},
       "output_type": "pyout",
       "prompt_number": 4,
       "text": [
        "u"
       ]
      }
     ],
     "prompt_number": 4
    },
    {
     "cell_type": "code",
     "collapsed": false,
     "input": [
      "p=u.diff(nu,1)"
     ],
     "language": "python",
     "metadata": {},
     "outputs": [],
     "prompt_number": 5
    },
    {
     "cell_type": "code",
     "collapsed": false,
     "input": [
      "p\n"
     ],
     "language": "python",
     "metadata": {},
     "outputs": [
      {
       "latex": [
        "$$\\frac{\\partial}{\\partial \\nu} u{\\left (\\nu,T \\right )}$$"
       ],
       "metadata": {},
       "output_type": "pyout",
       "prompt_number": 6,
       "text": [
        "\u2202          \n",
        "\u2500\u2500(u(\u03bd, T))\n",
        "\u2202\u03bd         "
       ]
      }
     ],
     "prompt_number": 6
    },
    {
     "cell_type": "code",
     "collapsed": false,
     "input": [],
     "language": "python",
     "metadata": {},
     "outputs": []
    }
   ],
   "metadata": {}
  }
 ]
}