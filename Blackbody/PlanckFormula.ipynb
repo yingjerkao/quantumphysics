{
 "metadata": {
  "name": "",
  "signature": "sha256:8e9babfd09a78b96535fcd93582c4dbf014301d3310b146531122c67db24f1f1"
 },
 "nbformat": 3,
 "nbformat_minor": 0,
 "worksheets": [
  {
   "cells": [
    {
     "cell_type": "code",
     "collapsed": false,
     "input": [
      "from sympy import *\n",
      "from sympy.abc import nu, c, h,k, T,x\n",
      "import sympy.plotting as splt\n",
      "import matplotlib.pyplot as plt\n",
      "from IPython.html.widgets import interactive\n",
      "from IPython.html import widgets\n",
      "\n",
      "import numpy as np\n",
      "%matplotlib inline \n",
      "init_printing(use_latex='mathjax')\n",
      "from IPython.display import Image, display,Latex\n",
      "\n",
      "u = Function(\"u\")(nu, T)\n",
      "u=8*pi*nu**3/c**3* h/(exp(h*nu/k/T)-1)\n",
      "\n",
      "u_dls1=u.subs(h*nu/k/T, x).subs(nu, x*k*T/h)\n",
      "u_dls2=u.subs(exp(h*nu/k/T)-1, exp(h*nu/k/T))\n",
      "display(Latex('$u(\\\\nu,T)='+str(latex(u_dls1.as_leading_term(x).subs(x,h*nu/k/T)))+'$'))\n",
      "display(Latex('$u(\\\\nu,T)='+str(latex(u_dls2.subs(x,h*nu/k/T)))+'$'))\n",
      "\n",
      "#display(u_dls2)"
     ],
     "language": "python",
     "metadata": {},
     "outputs": [
      {
       "latex": [
        "$u(\\nu,T)=\\frac{8 \\pi}{c^{3}} T k \\nu^{2}$"
       ],
       "metadata": {},
       "output_type": "display_data",
       "text": [
        "<IPython.core.display.Latex at 0x10fafa210>"
       ]
      },
      {
       "latex": [
        "$u(\\nu,T)=\\frac{8 \\pi}{c^{3}} h \\nu^{3} e^{- \\frac{h \\nu}{T k}}$"
       ],
       "metadata": {},
       "output_type": "display_data",
       "text": [
        "<IPython.core.display.Latex at 0x10fbb3910>"
       ]
      }
     ],
     "prompt_number": 3
    },
    {
     "cell_type": "code",
     "collapsed": false,
     "input": [],
     "language": "python",
     "metadata": {},
     "outputs": []
    }
   ],
   "metadata": {}
  }
 ]
}