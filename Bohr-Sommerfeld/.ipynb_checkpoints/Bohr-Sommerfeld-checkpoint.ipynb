{
 "metadata": {
  "name": "",
  "signature": "sha256:352b3d1278c83745fc091917f6a677130d19d94354a19b6a39703b2c7a2fdb39"
 },
 "nbformat": 3,
 "nbformat_minor": 0,
 "worksheets": []
}